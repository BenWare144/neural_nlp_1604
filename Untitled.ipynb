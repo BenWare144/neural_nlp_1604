{
 "cells": [
  {
   "cell_type": "code",
   "execution_count": 1,
   "metadata": {},
   "outputs": [
    {
     "name": "stdout",
     "output_type": "stream",
     "text": [
      "1.20.1\n",
      "/home/ben/miniconda3/envs/neural_nlp_orig/lib/python3.7/site-packages/numpy/__init__.py\n"
     ]
    },
    {
     "data": {
      "text/plain": [
       "array([1, 2, 3])"
      ]
     },
     "execution_count": 1,
     "metadata": {},
     "output_type": "execute_result"
    }
   ],
   "source": [
    "import numpy as np\n",
    "import numpy as np\n",
    "print(np.__version__)\n",
    "print(np.__file__)\n",
    "np.nan_to_num([1,2,3], nan=0)"
   ]
  },
  {
   "cell_type": "code",
   "execution_count": 11,
   "metadata": {},
   "outputs": [
    {
     "ename": "SyntaxError",
     "evalue": "invalid syntax (<ipython-input-11-596560e8e2e2>, line 1)",
     "output_type": "error",
     "traceback": [
      "\u001b[0;36m  File \u001b[0;32m\"<ipython-input-11-596560e8e2e2>\"\u001b[0;36m, line \u001b[0;32m1\u001b[0m\n\u001b[0;31m    import numpy-base as np\u001b[0m\n\u001b[0m                ^\u001b[0m\n\u001b[0;31mSyntaxError\u001b[0m\u001b[0;31m:\u001b[0m invalid syntax\n"
     ]
    }
   ],
   "source": [
    "import numpy-base as np\n"
   ]
  },
  {
   "cell_type": "code",
   "execution_count": 9,
   "metadata": {},
   "outputs": [
    {
     "name": "stderr",
     "output_type": "stream",
     "text": [
      "IOPub data rate exceeded.\n",
      "The notebook server will temporarily stop sending output\n",
      "to the client in order to avoid crashing it.\n",
      "To change this limit, set the config variable\n",
      "`--NotebookApp.iopub_data_rate_limit`.\n",
      "\n",
      "Current values:\n",
      "NotebookApp.iopub_data_rate_limit=1000000.0 (bytes/sec)\n",
      "NotebookApp.rate_limit_window=3.0 (secs)\n",
      "\n"
     ]
    },
    {
     "data": {
      "text/plain": [
       "'None'"
      ]
     },
     "execution_count": 9,
     "metadata": {},
     "output_type": "execute_result"
    }
   ],
   "source": []
  },
  {
   "cell_type": "code",
   "execution_count": 5,
   "metadata": {},
   "outputs": [
    {
     "name": "stdout",
     "output_type": "stream",
     "text": [
      "/home/ben/code_orig/github_orig/neural-nlp\n",
      "/home/ben/miniconda3/envs/neural_nlp_orig/lib/python37.zip\n",
      "/home/ben/miniconda3/envs/neural_nlp_orig/lib/python3.7\n",
      "/home/ben/miniconda3/envs/neural_nlp_orig/lib/python3.7/lib-dynload\n",
      "\n",
      "/home/ben/miniconda3/envs/neural_nlp_orig/lib/python3.7/site-packages\n",
      "/home/ben/code_orig/github_orig/brainio_base\n",
      "/home/ben/code_orig/github_orig/brainio_collection\n",
      "/home/ben/code_orig/github_orig/result_caching\n",
      "/home/ben/code_orig/github_orig/brain-score\n",
      "/home/ben/code_orig/github_orig/neural-nlp\n",
      "/home/ben/miniconda3/envs/neural_nlp_orig/lib/python3.7/site-packages/IPython/extensions\n",
      "/home/ben/.ipython\n",
      "Completed correcting sys paths now...\n"
     ]
    }
   ],
   "source": [
    "import sys\n",
    "for x in sys.path:\n",
    "    print(x)\n",
    "# for path in reversed(paths):\n",
    "#     sys.path.insert(0,path)\n",
    "# del path\n",
    "# del paths"
   ]
  },
  {
   "cell_type": "code",
   "execution_count": null,
   "metadata": {},
   "outputs": [],
   "source": []
  }
 ],
 "metadata": {
  "kernelspec": {
   "display_name": "Python 3",
   "language": "python",
   "name": "python3"
  },
  "language_info": {
   "codemirror_mode": {
    "name": "ipython",
    "version": 3
   },
   "file_extension": ".py",
   "mimetype": "text/x-python",
   "name": "python",
   "nbconvert_exporter": "python",
   "pygments_lexer": "ipython3",
   "version": "3.7.3"
  }
 },
 "nbformat": 4,
 "nbformat_minor": 2
}
