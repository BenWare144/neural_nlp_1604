{
 "cells": [
  {
   "cell_type": "code",
   "execution_count": 2,
   "metadata": {},
   "outputs": [
    {
     "name": "stdout",
     "output_type": "stream",
     "text": [
      "1.16.4\n"
     ]
    },
    {
     "ename": "TypeError",
     "evalue": "nan_to_num() got an unexpected keyword argument 'nan'",
     "output_type": "error",
     "traceback": [
      "\u001b[0;31m---------------------------------------------------------------------------\u001b[0m",
      "\u001b[0;31mTypeError\u001b[0m                                 Traceback (most recent call last)",
      "\u001b[0;32m<ipython-input-2-e0e7aaa7b639>\u001b[0m in \u001b[0;36m<module>\u001b[0;34m\u001b[0m\n\u001b[1;32m      1\u001b[0m \u001b[0;32mimport\u001b[0m \u001b[0mnumpy\u001b[0m \u001b[0;32mas\u001b[0m \u001b[0mnp\u001b[0m\u001b[0;34m\u001b[0m\u001b[0;34m\u001b[0m\u001b[0m\n\u001b[1;32m      2\u001b[0m \u001b[0mprint\u001b[0m\u001b[0;34m(\u001b[0m\u001b[0mnp\u001b[0m\u001b[0;34m.\u001b[0m\u001b[0m__version__\u001b[0m\u001b[0;34m)\u001b[0m\u001b[0;34m\u001b[0m\u001b[0;34m\u001b[0m\u001b[0m\n\u001b[0;32m----> 3\u001b[0;31m \u001b[0mnp\u001b[0m\u001b[0;34m.\u001b[0m\u001b[0mnan_to_num\u001b[0m\u001b[0;34m(\u001b[0m\u001b[0;34m[\u001b[0m\u001b[0;36m1\u001b[0m\u001b[0;34m,\u001b[0m\u001b[0;36m2\u001b[0m\u001b[0;34m,\u001b[0m\u001b[0;36m3\u001b[0m\u001b[0;34m]\u001b[0m\u001b[0;34m,\u001b[0m \u001b[0mnan\u001b[0m\u001b[0;34m=\u001b[0m\u001b[0;36m0\u001b[0m\u001b[0;34m)\u001b[0m\u001b[0;34m\u001b[0m\u001b[0;34m\u001b[0m\u001b[0m\n\u001b[0m",
      "\u001b[0;31mTypeError\u001b[0m: nan_to_num() got an unexpected keyword argument 'nan'"
     ]
    }
   ],
   "source": [
    "import numpy as np\n",
    "print(np.__version__)\n",
    "np.nan_to_num([1,2,3], nan=0)"
   ]
  },
  {
   "cell_type": "code",
   "execution_count": 5,
   "metadata": {},
   "outputs": [
    {
     "name": "stdout",
     "output_type": "stream",
     "text": [
      "/home/ben/code_orig/github_orig/neural-nlp\n",
      "/home/ben/miniconda3/envs/neural_nlp_orig/lib/python37.zip\n",
      "/home/ben/miniconda3/envs/neural_nlp_orig/lib/python3.7\n",
      "/home/ben/miniconda3/envs/neural_nlp_orig/lib/python3.7/lib-dynload\n",
      "\n",
      "/home/ben/miniconda3/envs/neural_nlp_orig/lib/python3.7/site-packages\n",
      "/home/ben/code_orig/github_orig/brainio_base\n",
      "/home/ben/code_orig/github_orig/brainio_collection\n",
      "/home/ben/code_orig/github_orig/result_caching\n",
      "/home/ben/code_orig/github_orig/brain-score\n",
      "/home/ben/code_orig/github_orig/neural-nlp\n",
      "/home/ben/miniconda3/envs/neural_nlp_orig/lib/python3.7/site-packages/IPython/extensions\n",
      "/home/ben/.ipython\n",
      "Completed correcting sys paths now...\n"
     ]
    }
   ],
   "source": [
    "import sys\n",
    "for x in sys.path:\n",
    "    print(x)\n",
    "# for path in reversed(paths):\n",
    "#     sys.path.insert(0,path)\n",
    "# del path\n",
    "# del paths"
   ]
  },
  {
   "cell_type": "code",
   "execution_count": null,
   "metadata": {},
   "outputs": [],
   "source": []
  }
 ],
 "metadata": {
  "kernelspec": {
   "display_name": "Python 3",
   "language": "python",
   "name": "python3"
  },
  "language_info": {
   "codemirror_mode": {
    "name": "ipython",
    "version": 3
   },
   "file_extension": ".py",
   "mimetype": "text/x-python",
   "name": "python",
   "nbconvert_exporter": "python",
   "pygments_lexer": "ipython3",
   "version": "3.7.3"
  }
 },
 "nbformat": 4,
 "nbformat_minor": 2
}
