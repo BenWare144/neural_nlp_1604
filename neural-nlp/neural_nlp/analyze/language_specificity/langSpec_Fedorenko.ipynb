{
 "cells": [
  {
   "cell_type": "code",
   "execution_count": 111,
   "metadata": {},
   "outputs": [
    {
     "name": "stdout",
     "output_type": "stream",
     "text": [
      "/braintree/home/msch/.result_caching/neural_nlp.score/benchmark=Fedorenko2016v3-encoding,model=xlm-mlm-xnli15-1024,subsample=None.pkl\n",
      "/braintree/home/msch/.result_caching/neural_nlp.score/benchmark=Fedorenko2016v3-encoding,model=glove,subsample=None.pkl\n",
      "/braintree/home/msch/.result_caching/neural_nlp.score/benchmark=Fedorenko2016v3nonlang-encoding,model=albert-xlarge-v2,subsample=None.pkl\n",
      "/braintree/home/msch/.result_caching/neural_nlp.score/benchmark=Fedorenko2016v3nonlang-encoding,model=xlm-mlm-en-2048,subsample=None.pkl\n",
      "/braintree/home/msch/.result_caching/neural_nlp.score/benchmark=Fedorenko2016v3-encoding,model=word2vec,subsample=None.pkl\n",
      "/braintree/home/msch/.result_caching/neural_nlp.score/benchmark=Fedorenko2016v3-encoding,model=distilgpt2,subsample=None.pkl\n",
      "/braintree/home/msch/.result_caching/neural_nlp.score/benchmark=Fedorenko2016v3nonlang-encoding,model=xlnet-base-cased,subsample=None.pkl\n",
      "/braintree/home/msch/.result_caching/neural_nlp.score/benchmark=Fedorenko2016v3-encoding,model=albert-xxlarge-v1,subsample=None.pkl\n",
      "/braintree/home/msch/.result_caching/neural_nlp.score/benchmark=Fedorenko2016v3-encoding,model=albert-large-v1,subsample=None.pkl\n",
      "/braintree/home/msch/.result_caching/neural_nlp.score/benchmark=Fedorenko2016v3-encoding,model=roberta-large,subsample=None.pkl\n",
      "/braintree/home/msch/.result_caching/neural_nlp.score/benchmark=Fedorenko2016v3-encoding,model=gpt2,subsample=None.pkl\n",
      "/braintree/home/msch/.result_caching/neural_nlp.score/benchmark=Fedorenko2016v3-encoding,model=gpt2-large,subsample=None.pkl\n",
      "/braintree/home/msch/.result_caching/neural_nlp.score/benchmark=Fedorenko2016v3-encoding,model=t5-3b,subsample=None.pkl\n",
      "/braintree/home/msch/.result_caching/neural_nlp.score/benchmark=Fedorenko2016v3nonlang-encoding,model=gpt2-large,subsample=None.pkl\n",
      "/braintree/home/msch/.result_caching/neural_nlp.score/benchmark=Fedorenko2016v3-encoding,model=gpt2-medium,subsample=None.pkl\n",
      "/braintree/home/msch/.result_caching/neural_nlp.score/benchmark=Fedorenko2016v3nonlang-encoding,model=lm_1b,subsample=None.pkl\n",
      "/braintree/home/msch/.result_caching/neural_nlp.score/benchmark=Fedorenko2016v3nonlang-encoding,model=albert-large-v2,subsample=None.pkl\n",
      "/braintree/home/msch/.result_caching/neural_nlp.score/benchmark=Fedorenko2016v3-encoding,model=albert-base-v2,subsample=None.pkl\n",
      "/braintree/home/msch/.result_caching/neural_nlp.score/benchmark=Fedorenko2016v3nonlang-encoding,model=albert-xxlarge-v1,subsample=None.pkl\n",
      "/braintree/home/msch/.result_caching/neural_nlp.score/benchmark=Fedorenko2016v3nonlang-encoding,model=distilbert-base-uncased,subsample=None.pkl\n",
      "/braintree/home/msch/.result_caching/neural_nlp.score/benchmark=Fedorenko2016v3-encoding,model=t5-11b,subsample=None.pkl\n",
      "/braintree/home/msch/.result_caching/neural_nlp.score/benchmark=Fedorenko2016v3nonlang-encoding,model=xlnet-large-cased,subsample=None.pkl\n",
      "/braintree/home/msch/.result_caching/neural_nlp.score/benchmark=Fedorenko2016v3-encoding,model=distilroberta-base,subsample=None.pkl\n",
      "/braintree/home/msch/.result_caching/neural_nlp.score/benchmark=Fedorenko2016v3-encoding,model=xlm-mlm-enfr-1024,subsample=None.pkl\n",
      "/braintree/home/msch/.result_caching/neural_nlp.score/benchmark=Fedorenko2016v3-encoding,model=xlnet-base-cased,subsample=None.pkl\n",
      "/braintree/home/msch/.result_caching/neural_nlp.score/benchmark=Fedorenko2016v3-encoding,model=ctrl,subsample=None.pkl\n",
      "/braintree/home/msch/.result_caching/neural_nlp.score/benchmark=Fedorenko2016v3-encoding,model=gpt2-xl,subsample=None.pkl\n",
      "/braintree/home/msch/.result_caching/neural_nlp.score/benchmark=Fedorenko2016v3-encoding,model=distilbert-base-uncased,subsample=None.pkl\n",
      "/braintree/home/msch/.result_caching/neural_nlp.score/benchmark=Fedorenko2016v3nonlang-encoding,model=t5-large,subsample=None.pkl\n",
      "/braintree/home/msch/.result_caching/neural_nlp.score/benchmark=Fedorenko2016v3-encoding,model=bert-base-multilingual-cased,subsample=None.pkl\n",
      "/braintree/home/msch/.result_caching/neural_nlp.score/benchmark=Fedorenko2016v3nonlang-encoding,model=albert-xlarge-v1,subsample=None.pkl\n",
      "/braintree/home/msch/.result_caching/neural_nlp.score/benchmark=Fedorenko2016v3-encoding,model=albert-large-v2,subsample=None.pkl\n",
      "/braintree/home/msch/.result_caching/neural_nlp.score/benchmark=Fedorenko2016v3nonlang-encoding,model=bert-base-uncased,subsample=None.pkl\n",
      "/braintree/home/msch/.result_caching/neural_nlp.score/benchmark=Fedorenko2016v3nonlang-encoding,model=gpt2-xl,subsample=None.pkl\n",
      "/braintree/home/msch/.result_caching/neural_nlp.score/benchmark=Fedorenko2016v3-encoding,model=albert-xlarge-v1,subsample=None.pkl\n",
      "/braintree/home/msch/.result_caching/neural_nlp.score/benchmark=Fedorenko2016v3nonlang-encoding,model=t5-small,subsample=None.pkl\n",
      "/braintree/home/msch/.result_caching/neural_nlp.score/benchmark=Fedorenko2016v3nonlang-encoding,model=glove,subsample=None.pkl\n",
      "/braintree/home/msch/.result_caching/neural_nlp.score/benchmark=Fedorenko2016v3nonlang-encoding,model=openaigpt,subsample=None.pkl\n",
      "/braintree/home/msch/.result_caching/neural_nlp.score/benchmark=Fedorenko2016v3nonlang-encoding,model=albert-large-v1,subsample=None.pkl\n",
      "/braintree/home/msch/.result_caching/neural_nlp.score/benchmark=Fedorenko2016v3nonlang-encoding,model=albert-xxlarge-v2,subsample=None.pkl\n",
      "/braintree/home/msch/.result_caching/neural_nlp.score/benchmark=Fedorenko2016v3nonlang-encoding,model=t5-11b,subsample=None.pkl\n",
      "/braintree/home/msch/.result_caching/neural_nlp.score/benchmark=Fedorenko2016v3nonlang-encoding,model=bert-large-uncased,subsample=None.pkl\n",
      "/braintree/home/msch/.result_caching/neural_nlp.score/benchmark=Fedorenko2016v3nonlang-encoding,model=gpt2-medium,subsample=None.pkl\n",
      "/braintree/home/msch/.result_caching/neural_nlp.score/benchmark=Fedorenko2016v3-encoding,model=xlm-mlm-100-1280,subsample=None.pkl\n",
      "/braintree/home/msch/.result_caching/neural_nlp.score/benchmark=Fedorenko2016v3nonlang-encoding,model=gpt2,subsample=None.pkl\n",
      "/braintree/home/msch/.result_caching/neural_nlp.score/benchmark=Fedorenko2016v3nonlang-encoding,model=xlm-roberta-base,subsample=None.pkl\n",
      "/braintree/home/msch/.result_caching/neural_nlp.score/benchmark=Fedorenko2016v3-encoding,model=xlm-clm-enfr-1024,subsample=None.pkl\n",
      "/braintree/home/msch/.result_caching/neural_nlp.score/benchmark=Fedorenko2016v3nonlang-encoding,model=bert-base-multilingual-cased,subsample=None.pkl\n",
      "/braintree/home/msch/.result_caching/neural_nlp.score/benchmark=Fedorenko2016v3nonlang-encoding,model=transformer,subsample=None.pkl\n",
      "/braintree/home/msch/.result_caching/neural_nlp.score/benchmark=Fedorenko2016v3-encoding,model=bert-base-uncased,subsample=None.pkl\n",
      "/braintree/home/msch/.result_caching/neural_nlp.score/benchmark=Fedorenko2016v3-encoding,model=xlm-roberta-base,subsample=None.pkl\n",
      "/braintree/home/msch/.result_caching/neural_nlp.score/benchmark=Fedorenko2016v3-encoding,model=t5-large,subsample=None.pkl\n",
      "/braintree/home/msch/.result_caching/neural_nlp.score/benchmark=Fedorenko2016v3-encoding,model=albert-base-v1,subsample=None.pkl\n",
      "/braintree/home/msch/.result_caching/neural_nlp.score/benchmark=Fedorenko2016v3-encoding,model=xlnet-large-cased,subsample=None.pkl\n",
      "/braintree/home/msch/.result_caching/neural_nlp.score/benchmark=Fedorenko2016v3nonlang-encoding,model=distilroberta-base,subsample=None.pkl\n",
      "/braintree/home/msch/.result_caching/neural_nlp.score/benchmark=Fedorenko2016v3-encoding,model=t5-base,subsample=None.pkl\n",
      "/braintree/home/msch/.result_caching/neural_nlp.score/benchmark=Fedorenko2016v3nonlang-encoding,model=distilgpt2,subsample=None.pkl\n",
      "/braintree/home/msch/.result_caching/neural_nlp.score/benchmark=Fedorenko2016v3nonlang-encoding,model=roberta-large,subsample=None.pkl\n",
      "/braintree/home/msch/.result_caching/neural_nlp.score/benchmark=Fedorenko2016v3nonlang-encoding,model=albert-base-v2,subsample=None.pkl\n",
      "/braintree/home/msch/.result_caching/neural_nlp.score/benchmark=Fedorenko2016v3nonlang-encoding,model=ETM,subsample=None.pkl\n",
      "/braintree/home/msch/.result_caching/neural_nlp.score/benchmark=Fedorenko2016v3nonlang-encoding,model=skip-thoughts,subsample=None.pkl\n",
      "/braintree/home/msch/.result_caching/neural_nlp.score/benchmark=Fedorenko2016v3-encoding,model=albert-xlarge-v2,subsample=None.pkl\n",
      "/braintree/home/msch/.result_caching/neural_nlp.score/benchmark=Fedorenko2016v3nonlang-encoding,model=word2vec,subsample=None.pkl\n",
      "/braintree/home/msch/.result_caching/neural_nlp.score/benchmark=Fedorenko2016v3-encoding,model=albert-xxlarge-v2,subsample=None.pkl\n",
      "/braintree/home/msch/.result_caching/neural_nlp.score/benchmark=Fedorenko2016v3nonlang-encoding,model=xlm-mlm-100-1280,subsample=None.pkl\n",
      "/braintree/home/msch/.result_caching/neural_nlp.score/benchmark=Fedorenko2016v3-encoding,model=openaigpt,subsample=None.pkl\n",
      "/braintree/home/msch/.result_caching/neural_nlp.score/benchmark=Fedorenko2016v3-encoding,model=xlm-mlm-en-2048,subsample=None.pkl\n",
      "/braintree/home/msch/.result_caching/neural_nlp.score/benchmark=Fedorenko2016v3-encoding,model=bert-large-uncased,subsample=None.pkl\n",
      "/braintree/home/msch/.result_caching/neural_nlp.score/benchmark=Fedorenko2016v3nonlang-encoding,model=ctrl,subsample=None.pkl\n",
      "/braintree/home/msch/.result_caching/neural_nlp.score/benchmark=Fedorenko2016v3-encoding,model=transfo-xl-wt103,subsample=None.pkl\n",
      "/braintree/home/msch/.result_caching/neural_nlp.score/benchmark=Fedorenko2016v3nonlang-encoding,model=t5-base,subsample=None.pkl\n",
      "/braintree/home/msch/.result_caching/neural_nlp.score/benchmark=Fedorenko2016v3-encoding,model=t5-small,subsample=None.pkl\n",
      "/braintree/home/msch/.result_caching/neural_nlp.score/benchmark=Fedorenko2016v3-encoding,model=transformer,subsample=None.pkl\n",
      "/braintree/home/msch/.result_caching/neural_nlp.score/benchmark=Fedorenko2016v3-encoding,model=ETM,subsample=None.pkl\n",
      "/braintree/home/msch/.result_caching/neural_nlp.score/benchmark=Fedorenko2016v3nonlang-encoding,model=xlm-mlm-enfr-1024,subsample=None.pkl\n",
      "/braintree/home/msch/.result_caching/neural_nlp.score/benchmark=Fedorenko2016v3-encoding,model=bert-large-uncased-whole-word-masking,subsample=None.pkl\n",
      "/braintree/home/msch/.result_caching/neural_nlp.score/benchmark=Fedorenko2016v3nonlang-encoding,model=t5-3b,subsample=None.pkl\n",
      "/braintree/home/msch/.result_caching/neural_nlp.score/benchmark=Fedorenko2016v3-encoding,model=skip-thoughts,subsample=None.pkl\n",
      "/braintree/home/msch/.result_caching/neural_nlp.score/benchmark=Fedorenko2016v3nonlang-encoding,model=xlm-clm-enfr-1024,subsample=None.pkl\n",
      "/braintree/home/msch/.result_caching/neural_nlp.score/benchmark=Fedorenko2016v3nonlang-encoding,model=roberta-base,subsample=None.pkl\n",
      "/braintree/home/msch/.result_caching/neural_nlp.score/benchmark=Fedorenko2016v3nonlang-encoding,model=transfo-xl-wt103,subsample=None.pkl\n",
      "/braintree/home/msch/.result_caching/neural_nlp.score/benchmark=Fedorenko2016v3nonlang-encoding,model=xlm-mlm-xnli15-1024,subsample=None.pkl\n",
      "/braintree/home/msch/.result_caching/neural_nlp.score/benchmark=Fedorenko2016v3-encoding,model=xlm-roberta-large,subsample=None.pkl\n",
      "/braintree/home/msch/.result_caching/neural_nlp.score/benchmark=Fedorenko2016v3nonlang-encoding,model=bert-large-uncased-whole-word-masking,subsample=None.pkl\n",
      "/braintree/home/msch/.result_caching/neural_nlp.score/benchmark=Fedorenko2016v3-encoding,model=roberta-base,subsample=None.pkl\n",
      "/braintree/home/msch/.result_caching/neural_nlp.score/benchmark=Fedorenko2016v3-encoding,model=lm_1b,subsample=None.pkl\n",
      "/braintree/home/msch/.result_caching/neural_nlp.score/benchmark=Fedorenko2016v3nonlang-encoding,model=albert-base-v1,subsample=None.pkl\n",
      "/braintree/home/msch/.result_caching/neural_nlp.score/benchmark=Fedorenko2016v3nonlang-encoding,model=xlm-roberta-large,subsample=None.pkl\n"
     ]
    }
   ],
   "source": [
    "import pickle\n",
    "import numpy as np\n",
    "import scipy.io as sio\n",
    "import matplotlib.pyplot as plt\n",
    "import datetime \n",
    "import seaborn\n",
    "import xlsxwriter \n",
    "import os\n",
    "\n",
    "# ceil_name = '/om/user/msch/share/neural_nlp/identifier=Pereira2018-encoding.pkl'\n",
    "\n",
    "# # Load ceil objects\n",
    "# with open(ceil_name, 'rb') as f:  \n",
    "#     resultc = pickle.load(f)\n",
    "\n",
    "# ceil = resultc['data']\n",
    "\n",
    "from func import *\n",
    "\n",
    "models_l_pkl = []\n",
    "models_nl_pkl = []\n",
    "\n",
    "for path,dir,file in os.walk('/braintree/home/msch/.result_caching/neural_nlp.score/'):\n",
    "    for fileNames in file:\n",
    "        if fileNames.startswith(\"benchmark=Fedorenko2016v3-encoding\"):\n",
    "            if 'untrained' not in fileNames and 'random-embedding' not in fileNames:\n",
    "                fileName = str(os.path.join(path,fileNames))\n",
    "                print(fileName)\n",
    "                models_l_pkl.append(fileName)\n",
    "                \n",
    "        if fileNames.startswith(\"benchmark=Fedorenko2016v3nonlang-encoding\"):\n",
    "            if 'untrained' not in fileNames:\n",
    "                fileName = str(os.path.join(path,fileNames))\n",
    "                print(fileName)\n",
    "                models_nl_pkl.append(fileName)"
   ]
  },
  {
   "cell_type": "code",
   "execution_count": 112,
   "metadata": {},
   "outputs": [
    {
     "data": {
      "text/plain": [
       "44"
      ]
     },
     "execution_count": 112,
     "metadata": {},
     "output_type": "execute_result"
    }
   ],
   "source": [
    "len(models_l_pkl)"
   ]
  },
  {
   "cell_type": "code",
   "execution_count": 113,
   "metadata": {},
   "outputs": [
    {
     "data": {
      "text/plain": [
       "44"
      ]
     },
     "execution_count": 113,
     "metadata": {},
     "output_type": "execute_result"
    }
   ],
   "source": [
    "len(models_nl_pkl)"
   ]
  },
  {
   "cell_type": "markdown",
   "metadata": {},
   "source": [
    "# Ceiled"
   ]
  },
  {
   "cell_type": "code",
   "execution_count": 117,
   "metadata": {},
   "outputs": [
    {
     "name": "stdout",
     "output_type": "stream",
     "text": [
      "/braintree/home/msch/.result_caching/neural_nlp.score/benchmark=Fedorenko2016v3-encoding,model=xlm-mlm-xnli15-1024,subsample=None.pkl\n",
      "/braintree/home/msch/.result_caching/neural_nlp.score/benchmark=Fedorenko2016v3nonlang-encoding,model=xlm-mlm-xnli15-1024,subsample=None.pkl\n",
      "encoder.layer_norm2.9\n",
      "/braintree/home/msch/.result_caching/neural_nlp.score/benchmark=Fedorenko2016v3-encoding,model=glove,subsample=None.pkl\n",
      "/braintree/home/msch/.result_caching/neural_nlp.score/benchmark=Fedorenko2016v3nonlang-encoding,model=glove,subsample=None.pkl\n",
      "projection\n",
      "/braintree/home/msch/.result_caching/neural_nlp.score/benchmark=Fedorenko2016v3-encoding,model=word2vec,subsample=None.pkl\n",
      "/braintree/home/msch/.result_caching/neural_nlp.score/benchmark=Fedorenko2016v3nonlang-encoding,model=word2vec,subsample=None.pkl\n",
      "projection\n",
      "/braintree/home/msch/.result_caching/neural_nlp.score/benchmark=Fedorenko2016v3-encoding,model=distilgpt2,subsample=None.pkl\n",
      "/braintree/home/msch/.result_caching/neural_nlp.score/benchmark=Fedorenko2016v3nonlang-encoding,model=distilgpt2,subsample=None.pkl\n",
      "encoder.h.2\n",
      "/braintree/home/msch/.result_caching/neural_nlp.score/benchmark=Fedorenko2016v3-encoding,model=albert-xxlarge-v1,subsample=None.pkl\n",
      "/braintree/home/msch/.result_caching/neural_nlp.score/benchmark=Fedorenko2016v3nonlang-encoding,model=albert-xxlarge-v1,subsample=None.pkl\n",
      "embeddings\n",
      "/braintree/home/msch/.result_caching/neural_nlp.score/benchmark=Fedorenko2016v3-encoding,model=albert-large-v1,subsample=None.pkl\n",
      "/braintree/home/msch/.result_caching/neural_nlp.score/benchmark=Fedorenko2016v3nonlang-encoding,model=albert-large-v1,subsample=None.pkl\n",
      "embeddings\n",
      "/braintree/home/msch/.result_caching/neural_nlp.score/benchmark=Fedorenko2016v3-encoding,model=roberta-large,subsample=None.pkl\n",
      "/braintree/home/msch/.result_caching/neural_nlp.score/benchmark=Fedorenko2016v3nonlang-encoding,model=roberta-large,subsample=None.pkl\n",
      "encoder.layer.18\n",
      "/braintree/home/msch/.result_caching/neural_nlp.score/benchmark=Fedorenko2016v3-encoding,model=gpt2,subsample=None.pkl\n",
      "/braintree/home/msch/.result_caching/neural_nlp.score/benchmark=Fedorenko2016v3nonlang-encoding,model=gpt2,subsample=None.pkl\n",
      "encoder.h.7\n",
      "/braintree/home/msch/.result_caching/neural_nlp.score/benchmark=Fedorenko2016v3-encoding,model=gpt2-large,subsample=None.pkl\n",
      "/braintree/home/msch/.result_caching/neural_nlp.score/benchmark=Fedorenko2016v3nonlang-encoding,model=gpt2-large,subsample=None.pkl\n",
      "encoder.h.28\n",
      "/braintree/home/msch/.result_caching/neural_nlp.score/benchmark=Fedorenko2016v3-encoding,model=t5-3b,subsample=None.pkl\n",
      "/braintree/home/msch/.result_caching/neural_nlp.score/benchmark=Fedorenko2016v3nonlang-encoding,model=t5-3b,subsample=None.pkl\n",
      "encoder.block.20\n",
      "/braintree/home/msch/.result_caching/neural_nlp.score/benchmark=Fedorenko2016v3-encoding,model=gpt2-medium,subsample=None.pkl\n",
      "/braintree/home/msch/.result_caching/neural_nlp.score/benchmark=Fedorenko2016v3nonlang-encoding,model=gpt2-medium,subsample=None.pkl\n",
      "encoder.h.14\n",
      "/braintree/home/msch/.result_caching/neural_nlp.score/benchmark=Fedorenko2016v3-encoding,model=albert-base-v2,subsample=None.pkl\n",
      "/braintree/home/msch/.result_caching/neural_nlp.score/benchmark=Fedorenko2016v3nonlang-encoding,model=albert-base-v2,subsample=None.pkl\n",
      "embeddings\n",
      "/braintree/home/msch/.result_caching/neural_nlp.score/benchmark=Fedorenko2016v3-encoding,model=t5-11b,subsample=None.pkl\n",
      "/braintree/home/msch/.result_caching/neural_nlp.score/benchmark=Fedorenko2016v3nonlang-encoding,model=t5-11b,subsample=None.pkl\n",
      "encoder.block.5\n",
      "/braintree/home/msch/.result_caching/neural_nlp.score/benchmark=Fedorenko2016v3-encoding,model=distilroberta-base,subsample=None.pkl\n",
      "/braintree/home/msch/.result_caching/neural_nlp.score/benchmark=Fedorenko2016v3nonlang-encoding,model=distilroberta-base,subsample=None.pkl\n",
      "encoder.layer.3\n",
      "/braintree/home/msch/.result_caching/neural_nlp.score/benchmark=Fedorenko2016v3-encoding,model=xlm-mlm-enfr-1024,subsample=None.pkl\n",
      "/braintree/home/msch/.result_caching/neural_nlp.score/benchmark=Fedorenko2016v3nonlang-encoding,model=xlm-mlm-enfr-1024,subsample=None.pkl\n",
      "encoder.layer_norm2.5\n",
      "/braintree/home/msch/.result_caching/neural_nlp.score/benchmark=Fedorenko2016v3-encoding,model=xlnet-base-cased,subsample=None.pkl\n",
      "/braintree/home/msch/.result_caching/neural_nlp.score/benchmark=Fedorenko2016v3nonlang-encoding,model=xlnet-base-cased,subsample=None.pkl\n",
      "encoder.layer.5\n",
      "/braintree/home/msch/.result_caching/neural_nlp.score/benchmark=Fedorenko2016v3-encoding,model=ctrl,subsample=None.pkl\n",
      "/braintree/home/msch/.result_caching/neural_nlp.score/benchmark=Fedorenko2016v3nonlang-encoding,model=ctrl,subsample=None.pkl\n",
      "h.39\n",
      "/braintree/home/msch/.result_caching/neural_nlp.score/benchmark=Fedorenko2016v3-encoding,model=gpt2-xl,subsample=None.pkl\n",
      "/braintree/home/msch/.result_caching/neural_nlp.score/benchmark=Fedorenko2016v3nonlang-encoding,model=gpt2-xl,subsample=None.pkl\n",
      "encoder.h.17\n",
      "/braintree/home/msch/.result_caching/neural_nlp.score/benchmark=Fedorenko2016v3-encoding,model=distilbert-base-uncased,subsample=None.pkl\n",
      "/braintree/home/msch/.result_caching/neural_nlp.score/benchmark=Fedorenko2016v3nonlang-encoding,model=distilbert-base-uncased,subsample=None.pkl\n",
      "transformer.layer.4\n",
      "/braintree/home/msch/.result_caching/neural_nlp.score/benchmark=Fedorenko2016v3-encoding,model=bert-base-multilingual-cased,subsample=None.pkl\n",
      "/braintree/home/msch/.result_caching/neural_nlp.score/benchmark=Fedorenko2016v3nonlang-encoding,model=bert-base-multilingual-cased,subsample=None.pkl\n",
      "encoder.layer.6.output\n",
      "/braintree/home/msch/.result_caching/neural_nlp.score/benchmark=Fedorenko2016v3-encoding,model=albert-large-v2,subsample=None.pkl\n",
      "/braintree/home/msch/.result_caching/neural_nlp.score/benchmark=Fedorenko2016v3nonlang-encoding,model=albert-large-v2,subsample=None.pkl\n",
      "embeddings\n",
      "/braintree/home/msch/.result_caching/neural_nlp.score/benchmark=Fedorenko2016v3-encoding,model=albert-xlarge-v1,subsample=None.pkl\n",
      "/braintree/home/msch/.result_caching/neural_nlp.score/benchmark=Fedorenko2016v3nonlang-encoding,model=albert-xlarge-v1,subsample=None.pkl\n",
      "embeddings\n",
      "/braintree/home/msch/.result_caching/neural_nlp.score/benchmark=Fedorenko2016v3-encoding,model=xlm-mlm-100-1280,subsample=None.pkl\n",
      "/braintree/home/msch/.result_caching/neural_nlp.score/benchmark=Fedorenko2016v3nonlang-encoding,model=xlm-mlm-100-1280,subsample=None.pkl\n",
      "encoder.layer_norm2.1\n",
      "/braintree/home/msch/.result_caching/neural_nlp.score/benchmark=Fedorenko2016v3-encoding,model=xlm-clm-enfr-1024,subsample=None.pkl\n",
      "/braintree/home/msch/.result_caching/neural_nlp.score/benchmark=Fedorenko2016v3nonlang-encoding,model=xlm-clm-enfr-1024,subsample=None.pkl\n",
      "encoder.layer_norm2.5\n",
      "/braintree/home/msch/.result_caching/neural_nlp.score/benchmark=Fedorenko2016v3-encoding,model=bert-base-uncased,subsample=None.pkl\n",
      "/braintree/home/msch/.result_caching/neural_nlp.score/benchmark=Fedorenko2016v3nonlang-encoding,model=bert-base-uncased,subsample=None.pkl\n",
      "encoder.layer.6.output\n",
      "/braintree/home/msch/.result_caching/neural_nlp.score/benchmark=Fedorenko2016v3-encoding,model=xlm-roberta-base,subsample=None.pkl\n",
      "/braintree/home/msch/.result_caching/neural_nlp.score/benchmark=Fedorenko2016v3nonlang-encoding,model=xlm-roberta-base,subsample=None.pkl\n",
      "encoder.layer.4\n",
      "/braintree/home/msch/.result_caching/neural_nlp.score/benchmark=Fedorenko2016v3-encoding,model=t5-large,subsample=None.pkl\n",
      "/braintree/home/msch/.result_caching/neural_nlp.score/benchmark=Fedorenko2016v3nonlang-encoding,model=t5-large,subsample=None.pkl\n",
      "encoder.block.21\n",
      "/braintree/home/msch/.result_caching/neural_nlp.score/benchmark=Fedorenko2016v3-encoding,model=albert-base-v1,subsample=None.pkl\n",
      "/braintree/home/msch/.result_caching/neural_nlp.score/benchmark=Fedorenko2016v3nonlang-encoding,model=albert-base-v1,subsample=None.pkl\n",
      "embeddings\n",
      "/braintree/home/msch/.result_caching/neural_nlp.score/benchmark=Fedorenko2016v3-encoding,model=xlnet-large-cased,subsample=None.pkl\n",
      "/braintree/home/msch/.result_caching/neural_nlp.score/benchmark=Fedorenko2016v3nonlang-encoding,model=xlnet-large-cased,subsample=None.pkl\n",
      "encoder.layer.23\n",
      "/braintree/home/msch/.result_caching/neural_nlp.score/benchmark=Fedorenko2016v3-encoding,model=t5-base,subsample=None.pkl\n",
      "/braintree/home/msch/.result_caching/neural_nlp.score/benchmark=Fedorenko2016v3nonlang-encoding,model=t5-base,subsample=None.pkl\n",
      "encoder.block.9\n",
      "/braintree/home/msch/.result_caching/neural_nlp.score/benchmark=Fedorenko2016v3-encoding,model=albert-xlarge-v2,subsample=None.pkl\n",
      "/braintree/home/msch/.result_caching/neural_nlp.score/benchmark=Fedorenko2016v3nonlang-encoding,model=albert-xlarge-v2,subsample=None.pkl\n"
     ]
    },
    {
     "name": "stdout",
     "output_type": "stream",
     "text": [
      "embeddings\n",
      "/braintree/home/msch/.result_caching/neural_nlp.score/benchmark=Fedorenko2016v3-encoding,model=albert-xxlarge-v2,subsample=None.pkl\n",
      "/braintree/home/msch/.result_caching/neural_nlp.score/benchmark=Fedorenko2016v3nonlang-encoding,model=albert-xxlarge-v2,subsample=None.pkl\n",
      "embeddings\n",
      "/braintree/home/msch/.result_caching/neural_nlp.score/benchmark=Fedorenko2016v3-encoding,model=openaigpt,subsample=None.pkl\n",
      "/braintree/home/msch/.result_caching/neural_nlp.score/benchmark=Fedorenko2016v3nonlang-encoding,model=openaigpt,subsample=None.pkl\n",
      "encoder.h.9.ln_2\n",
      "/braintree/home/msch/.result_caching/neural_nlp.score/benchmark=Fedorenko2016v3-encoding,model=xlm-mlm-en-2048,subsample=None.pkl\n",
      "/braintree/home/msch/.result_caching/neural_nlp.score/benchmark=Fedorenko2016v3nonlang-encoding,model=xlm-mlm-en-2048,subsample=None.pkl\n",
      "encoder.layer_norm2.2\n",
      "/braintree/home/msch/.result_caching/neural_nlp.score/benchmark=Fedorenko2016v3-encoding,model=bert-large-uncased,subsample=None.pkl\n",
      "/braintree/home/msch/.result_caching/neural_nlp.score/benchmark=Fedorenko2016v3nonlang-encoding,model=bert-large-uncased,subsample=None.pkl\n",
      "encoder.layer.12.output\n",
      "/braintree/home/msch/.result_caching/neural_nlp.score/benchmark=Fedorenko2016v3-encoding,model=transfo-xl-wt103,subsample=None.pkl\n",
      "/braintree/home/msch/.result_caching/neural_nlp.score/benchmark=Fedorenko2016v3nonlang-encoding,model=transfo-xl-wt103,subsample=None.pkl\n",
      "encoder.layers.8\n",
      "/braintree/home/msch/.result_caching/neural_nlp.score/benchmark=Fedorenko2016v3-encoding,model=t5-small,subsample=None.pkl\n",
      "/braintree/home/msch/.result_caching/neural_nlp.score/benchmark=Fedorenko2016v3nonlang-encoding,model=t5-small,subsample=None.pkl\n",
      "encoder.block.0\n",
      "/braintree/home/msch/.result_caching/neural_nlp.score/benchmark=Fedorenko2016v3-encoding,model=transformer,subsample=None.pkl\n",
      "/braintree/home/msch/.result_caching/neural_nlp.score/benchmark=Fedorenko2016v3nonlang-encoding,model=transformer,subsample=None.pkl\n",
      "encoder.transformer.5.feed_forward.layer_norm\n",
      "/braintree/home/msch/.result_caching/neural_nlp.score/benchmark=Fedorenko2016v3-encoding,model=ETM,subsample=None.pkl\n",
      "/braintree/home/msch/.result_caching/neural_nlp.score/benchmark=Fedorenko2016v3nonlang-encoding,model=ETM,subsample=None.pkl\n",
      "projection\n",
      "/braintree/home/msch/.result_caching/neural_nlp.score/benchmark=Fedorenko2016v3-encoding,model=bert-large-uncased-whole-word-masking,subsample=None.pkl\n",
      "/braintree/home/msch/.result_caching/neural_nlp.score/benchmark=Fedorenko2016v3nonlang-encoding,model=bert-large-uncased-whole-word-masking,subsample=None.pkl\n",
      "encoder.layer.9.output\n",
      "/braintree/home/msch/.result_caching/neural_nlp.score/benchmark=Fedorenko2016v3-encoding,model=skip-thoughts,subsample=None.pkl\n",
      "/braintree/home/msch/.result_caching/neural_nlp.score/benchmark=Fedorenko2016v3nonlang-encoding,model=skip-thoughts,subsample=None.pkl\n",
      "encoder\n",
      "/braintree/home/msch/.result_caching/neural_nlp.score/benchmark=Fedorenko2016v3-encoding,model=xlm-roberta-large,subsample=None.pkl\n",
      "/braintree/home/msch/.result_caching/neural_nlp.score/benchmark=Fedorenko2016v3nonlang-encoding,model=xlm-roberta-large,subsample=None.pkl\n",
      "encoder.layer.14\n",
      "/braintree/home/msch/.result_caching/neural_nlp.score/benchmark=Fedorenko2016v3-encoding,model=roberta-base,subsample=None.pkl\n",
      "/braintree/home/msch/.result_caching/neural_nlp.score/benchmark=Fedorenko2016v3nonlang-encoding,model=roberta-base,subsample=None.pkl\n",
      "encoder.layer.11\n",
      "/braintree/home/msch/.result_caching/neural_nlp.score/benchmark=Fedorenko2016v3-encoding,model=lm_1b,subsample=None.pkl\n",
      "/braintree/home/msch/.result_caching/neural_nlp.score/benchmark=Fedorenko2016v3nonlang-encoding,model=lm_1b,subsample=None.pkl\n",
      "lstm/lstm_1/control_dependency\n"
     ]
    }
   ],
   "source": [
    "\n",
    "comparison='Non-Language'\n",
    "timestamp = '{:%Y-%m-%d}'.format(datetime.datetime.now())\n",
    "workbook = xlsxwriter.Workbook('Fedorenko2016-Language-'+comparison+'-specificity-ceiled-'+timestamp+'.xlsx')\n",
    "\n",
    "col=0\n",
    "\n",
    "worksheet = workbook.add_worksheet(\"Language vs \"+comparison) \n",
    "worksheet.write(0, col, 'Model_name')\n",
    "worksheet.write(0, 1, 'Best_layer')\n",
    "worksheet.write(0, 2, 'Comparison_1')\n",
    "worksheet.write(0, 3, 'Comparison_2')\n",
    "worksheet.write(0, 4, 'Normalized_Comparison1_Score')\n",
    "worksheet.write(0, 5, 'Normalized_Comparison2_Score')\n",
    "worksheet.write(0, 6, 'Median_Difference')\n",
    "worksheet.write(0, 7, 'Median_Mult_Drop')    \n",
    "worksheet.write(0, 8, 'Median_Perc_Drop')\n",
    "\n",
    "for idx, model in enumerate(models_l_pkl):\n",
    "\n",
    "    fname = models_l_pkl[idx]\n",
    "    fname1 = fname.split('=')\n",
    "    fname2 = fname1[-2].split(',')\n",
    "\n",
    "    print(fname)\n",
    "    fname_nl = '/braintree/home/msch/.result_caching/neural_nlp.score/benchmark=Fedorenko2016v3nonlang-encoding,model='+fname2[0]+',subsample=None.pkl'\n",
    "    print(fname_nl)\n",
    "\n",
    "    with open(fname, 'rb') as f:  \n",
    "        result = pickle.load(f)\n",
    "\n",
    "    score_l = result['data']\n",
    "\n",
    "    with open(fname_nl, 'rb') as f:  \n",
    "        result_nl = pickle.load(f)\n",
    "\n",
    "    score_nl = result_nl['data']\n",
    "    \n",
    "    diff, mult, perc, ceiled_lang, ceiled_comp, best_layer = computeDropFedorenko(score_l,score_nl,ceil=True)\n",
    " \n",
    "    worksheet.write(idx+1, col, fname2[0]) \n",
    "    worksheet.write(idx+1, col + 1, str(best_layer)) \n",
    "    worksheet.write(idx+1, col + 2, 'Language') \n",
    "    worksheet.write(idx+1, col + 3, comparison) \n",
    "    worksheet.write(idx+1, col + 4, ceiled_lang) \n",
    "    worksheet.write(idx+1, col + 5, ceiled_comp) \n",
    "    worksheet.write(idx+1, col + 6, diff)\n",
    "    worksheet.write(idx+1, col + 7, mult) \n",
    "    worksheet.write(idx+1, col + 8, perc) \n",
    "\n",
    "workbook.close()"
   ]
  },
  {
   "cell_type": "markdown",
   "metadata": {},
   "source": [
    "# Not ceiled"
   ]
  },
  {
   "cell_type": "code",
   "execution_count": 137,
   "metadata": {},
   "outputs": [
    {
     "name": "stdout",
     "output_type": "stream",
     "text": [
      "/braintree/home/msch/.result_caching/neural_nlp.score/benchmark=Fedorenko2016v3-encoding,model=xlm-mlm-xnli15-1024,subsample=None.pkl\n",
      "/braintree/home/msch/.result_caching/neural_nlp.score/benchmark=Fedorenko2016v3nonlang-encoding,model=xlm-mlm-xnli15-1024,subsample=None.pkl\n",
      "encoder.layer_norm2.9\n",
      "/braintree/home/msch/.result_caching/neural_nlp.score/benchmark=Fedorenko2016v3-encoding,model=glove,subsample=None.pkl\n",
      "/braintree/home/msch/.result_caching/neural_nlp.score/benchmark=Fedorenko2016v3nonlang-encoding,model=glove,subsample=None.pkl\n",
      "projection\n",
      "/braintree/home/msch/.result_caching/neural_nlp.score/benchmark=Fedorenko2016v3-encoding,model=word2vec,subsample=None.pkl\n",
      "/braintree/home/msch/.result_caching/neural_nlp.score/benchmark=Fedorenko2016v3nonlang-encoding,model=word2vec,subsample=None.pkl\n",
      "projection\n",
      "/braintree/home/msch/.result_caching/neural_nlp.score/benchmark=Fedorenko2016v3-encoding,model=distilgpt2,subsample=None.pkl\n",
      "/braintree/home/msch/.result_caching/neural_nlp.score/benchmark=Fedorenko2016v3nonlang-encoding,model=distilgpt2,subsample=None.pkl\n",
      "encoder.h.2\n",
      "/braintree/home/msch/.result_caching/neural_nlp.score/benchmark=Fedorenko2016v3-encoding,model=albert-xxlarge-v1,subsample=None.pkl\n",
      "/braintree/home/msch/.result_caching/neural_nlp.score/benchmark=Fedorenko2016v3nonlang-encoding,model=albert-xxlarge-v1,subsample=None.pkl\n",
      "embeddings\n",
      "/braintree/home/msch/.result_caching/neural_nlp.score/benchmark=Fedorenko2016v3-encoding,model=albert-large-v1,subsample=None.pkl\n",
      "/braintree/home/msch/.result_caching/neural_nlp.score/benchmark=Fedorenko2016v3nonlang-encoding,model=albert-large-v1,subsample=None.pkl\n",
      "embeddings\n",
      "/braintree/home/msch/.result_caching/neural_nlp.score/benchmark=Fedorenko2016v3-encoding,model=roberta-large,subsample=None.pkl\n",
      "/braintree/home/msch/.result_caching/neural_nlp.score/benchmark=Fedorenko2016v3nonlang-encoding,model=roberta-large,subsample=None.pkl\n"
     ]
    },
    {
     "name": "stderr",
     "output_type": "stream",
     "text": [
      "/om/user/gretatu/.conda/envs/brainmodeling/lib/python3.6/site-packages/brainscore/metrics/__init__.py:48: UserWarning: isel on raw values failed: ValueError(\"dimensions ['aggregation'] do not exist\",)\n",
      "  warnings.warn(f\"{operation} on raw values failed: {repr(e)}\")\n",
      "/om/user/gretatu/.conda/envs/brainmodeling/lib/python3.6/site-packages/brainscore/metrics/__init__.py:48: UserWarning: squeeze on raw values failed: KeyError('aggregation',)\n",
      "  warnings.warn(f\"{operation} on raw values failed: {repr(e)}\")\n",
      "/om/user/gretatu/.conda/envs/brainmodeling/lib/python3.6/site-packages/brainscore/metrics/__init__.py:48: UserWarning: isel on raw values failed: ValueError(\"dimensions ['aggregation'] do not exist\",)\n",
      "  warnings.warn(f\"{operation} on raw values failed: {repr(e)}\")\n",
      "/om/user/gretatu/.conda/envs/brainmodeling/lib/python3.6/site-packages/brainscore/metrics/__init__.py:48: UserWarning: squeeze on raw values failed: KeyError('aggregation',)\n",
      "  warnings.warn(f\"{operation} on raw values failed: {repr(e)}\")\n",
      "/om/user/gretatu/.conda/envs/brainmodeling/lib/python3.6/site-packages/brainscore/metrics/__init__.py:48: UserWarning: isel on raw values failed: ValueError(\"dimensions ['aggregation'] do not exist\",)\n",
      "  warnings.warn(f\"{operation} on raw values failed: {repr(e)}\")\n",
      "/om/user/gretatu/.conda/envs/brainmodeling/lib/python3.6/site-packages/brainscore/metrics/__init__.py:48: UserWarning: squeeze on raw values failed: KeyError('aggregation',)\n",
      "  warnings.warn(f\"{operation} on raw values failed: {repr(e)}\")\n",
      "/om/user/gretatu/.conda/envs/brainmodeling/lib/python3.6/site-packages/brainscore/metrics/__init__.py:48: UserWarning: isel on raw values failed: ValueError(\"dimensions ['aggregation'] do not exist\",)\n",
      "  warnings.warn(f\"{operation} on raw values failed: {repr(e)}\")\n",
      "/om/user/gretatu/.conda/envs/brainmodeling/lib/python3.6/site-packages/brainscore/metrics/__init__.py:48: UserWarning: squeeze on raw values failed: KeyError('aggregation',)\n",
      "  warnings.warn(f\"{operation} on raw values failed: {repr(e)}\")\n",
      "/om/user/gretatu/.conda/envs/brainmodeling/lib/python3.6/site-packages/brainscore/metrics/__init__.py:48: UserWarning: isel on raw values failed: ValueError(\"dimensions ['aggregation'] do not exist\",)\n",
      "  warnings.warn(f\"{operation} on raw values failed: {repr(e)}\")\n",
      "/om/user/gretatu/.conda/envs/brainmodeling/lib/python3.6/site-packages/brainscore/metrics/__init__.py:48: UserWarning: squeeze on raw values failed: KeyError('aggregation',)\n",
      "  warnings.warn(f\"{operation} on raw values failed: {repr(e)}\")\n",
      "/om/user/gretatu/.conda/envs/brainmodeling/lib/python3.6/site-packages/brainscore/metrics/__init__.py:48: UserWarning: isel on raw values failed: ValueError(\"dimensions ['aggregation'] do not exist\",)\n",
      "  warnings.warn(f\"{operation} on raw values failed: {repr(e)}\")\n",
      "/om/user/gretatu/.conda/envs/brainmodeling/lib/python3.6/site-packages/brainscore/metrics/__init__.py:48: UserWarning: squeeze on raw values failed: KeyError('aggregation',)\n",
      "  warnings.warn(f\"{operation} on raw values failed: {repr(e)}\")\n",
      "/om/user/gretatu/.conda/envs/brainmodeling/lib/python3.6/site-packages/brainscore/metrics/__init__.py:48: UserWarning: isel on raw values failed: ValueError(\"dimensions ['aggregation'] do not exist\",)\n",
      "  warnings.warn(f\"{operation} on raw values failed: {repr(e)}\")\n",
      "/om/user/gretatu/.conda/envs/brainmodeling/lib/python3.6/site-packages/brainscore/metrics/__init__.py:48: UserWarning: squeeze on raw values failed: KeyError('aggregation',)\n",
      "  warnings.warn(f\"{operation} on raw values failed: {repr(e)}\")\n"
     ]
    },
    {
     "name": "stdout",
     "output_type": "stream",
     "text": [
      "encoder.layer.18\n",
      "/braintree/home/msch/.result_caching/neural_nlp.score/benchmark=Fedorenko2016v3-encoding,model=gpt2,subsample=None.pkl\n",
      "/braintree/home/msch/.result_caching/neural_nlp.score/benchmark=Fedorenko2016v3nonlang-encoding,model=gpt2,subsample=None.pkl\n",
      "encoder.h.7\n",
      "/braintree/home/msch/.result_caching/neural_nlp.score/benchmark=Fedorenko2016v3-encoding,model=gpt2-large,subsample=None.pkl\n",
      "/braintree/home/msch/.result_caching/neural_nlp.score/benchmark=Fedorenko2016v3nonlang-encoding,model=gpt2-large,subsample=None.pkl\n",
      "encoder.h.28\n",
      "/braintree/home/msch/.result_caching/neural_nlp.score/benchmark=Fedorenko2016v3-encoding,model=t5-3b,subsample=None.pkl\n",
      "/braintree/home/msch/.result_caching/neural_nlp.score/benchmark=Fedorenko2016v3nonlang-encoding,model=t5-3b,subsample=None.pkl\n",
      "encoder.block.20\n",
      "/braintree/home/msch/.result_caching/neural_nlp.score/benchmark=Fedorenko2016v3-encoding,model=gpt2-medium,subsample=None.pkl\n",
      "/braintree/home/msch/.result_caching/neural_nlp.score/benchmark=Fedorenko2016v3nonlang-encoding,model=gpt2-medium,subsample=None.pkl\n",
      "encoder.h.14\n",
      "/braintree/home/msch/.result_caching/neural_nlp.score/benchmark=Fedorenko2016v3-encoding,model=albert-base-v2,subsample=None.pkl\n",
      "/braintree/home/msch/.result_caching/neural_nlp.score/benchmark=Fedorenko2016v3nonlang-encoding,model=albert-base-v2,subsample=None.pkl\n",
      "embeddings\n",
      "/braintree/home/msch/.result_caching/neural_nlp.score/benchmark=Fedorenko2016v3-encoding,model=t5-11b,subsample=None.pkl\n",
      "/braintree/home/msch/.result_caching/neural_nlp.score/benchmark=Fedorenko2016v3nonlang-encoding,model=t5-11b,subsample=None.pkl\n",
      "encoder.block.5\n",
      "/braintree/home/msch/.result_caching/neural_nlp.score/benchmark=Fedorenko2016v3-encoding,model=distilroberta-base,subsample=None.pkl\n",
      "/braintree/home/msch/.result_caching/neural_nlp.score/benchmark=Fedorenko2016v3nonlang-encoding,model=distilroberta-base,subsample=None.pkl\n",
      "encoder.layer.3\n"
     ]
    },
    {
     "name": "stderr",
     "output_type": "stream",
     "text": [
      "/om/user/gretatu/.conda/envs/brainmodeling/lib/python3.6/site-packages/brainscore/metrics/__init__.py:48: UserWarning: isel on raw values failed: ValueError(\"dimensions ['aggregation'] do not exist\",)\n",
      "  warnings.warn(f\"{operation} on raw values failed: {repr(e)}\")\n",
      "/om/user/gretatu/.conda/envs/brainmodeling/lib/python3.6/site-packages/brainscore/metrics/__init__.py:48: UserWarning: squeeze on raw values failed: KeyError('aggregation',)\n",
      "  warnings.warn(f\"{operation} on raw values failed: {repr(e)}\")\n",
      "/om/user/gretatu/.conda/envs/brainmodeling/lib/python3.6/site-packages/brainscore/metrics/__init__.py:48: UserWarning: isel on raw values failed: ValueError(\"dimensions ['aggregation'] do not exist\",)\n",
      "  warnings.warn(f\"{operation} on raw values failed: {repr(e)}\")\n",
      "/om/user/gretatu/.conda/envs/brainmodeling/lib/python3.6/site-packages/brainscore/metrics/__init__.py:48: UserWarning: squeeze on raw values failed: KeyError('aggregation',)\n",
      "  warnings.warn(f\"{operation} on raw values failed: {repr(e)}\")\n",
      "/om/user/gretatu/.conda/envs/brainmodeling/lib/python3.6/site-packages/brainscore/metrics/__init__.py:48: UserWarning: isel on raw values failed: ValueError(\"dimensions ['aggregation'] do not exist\",)\n",
      "  warnings.warn(f\"{operation} on raw values failed: {repr(e)}\")\n",
      "/om/user/gretatu/.conda/envs/brainmodeling/lib/python3.6/site-packages/brainscore/metrics/__init__.py:48: UserWarning: squeeze on raw values failed: KeyError('aggregation',)\n",
      "  warnings.warn(f\"{operation} on raw values failed: {repr(e)}\")\n",
      "/om/user/gretatu/.conda/envs/brainmodeling/lib/python3.6/site-packages/brainscore/metrics/__init__.py:48: UserWarning: isel on raw values failed: ValueError(\"dimensions ['aggregation'] do not exist\",)\n",
      "  warnings.warn(f\"{operation} on raw values failed: {repr(e)}\")\n",
      "/om/user/gretatu/.conda/envs/brainmodeling/lib/python3.6/site-packages/brainscore/metrics/__init__.py:48: UserWarning: squeeze on raw values failed: KeyError('aggregation',)\n",
      "  warnings.warn(f\"{operation} on raw values failed: {repr(e)}\")\n",
      "/om/user/gretatu/.conda/envs/brainmodeling/lib/python3.6/site-packages/brainscore/metrics/__init__.py:48: UserWarning: isel on raw values failed: ValueError(\"dimensions ['aggregation'] do not exist\",)\n",
      "  warnings.warn(f\"{operation} on raw values failed: {repr(e)}\")\n",
      "/om/user/gretatu/.conda/envs/brainmodeling/lib/python3.6/site-packages/brainscore/metrics/__init__.py:48: UserWarning: squeeze on raw values failed: KeyError('aggregation',)\n",
      "  warnings.warn(f\"{operation} on raw values failed: {repr(e)}\")\n",
      "/om/user/gretatu/.conda/envs/brainmodeling/lib/python3.6/site-packages/brainscore/metrics/__init__.py:48: UserWarning: isel on raw values failed: ValueError(\"dimensions ['aggregation'] do not exist\",)\n",
      "  warnings.warn(f\"{operation} on raw values failed: {repr(e)}\")\n",
      "/om/user/gretatu/.conda/envs/brainmodeling/lib/python3.6/site-packages/brainscore/metrics/__init__.py:48: UserWarning: squeeze on raw values failed: KeyError('aggregation',)\n",
      "  warnings.warn(f\"{operation} on raw values failed: {repr(e)}\")\n",
      "/om/user/gretatu/.conda/envs/brainmodeling/lib/python3.6/site-packages/brainscore/metrics/__init__.py:48: UserWarning: isel on raw values failed: ValueError(\"dimensions ['aggregation'] do not exist\",)\n",
      "  warnings.warn(f\"{operation} on raw values failed: {repr(e)}\")\n",
      "/om/user/gretatu/.conda/envs/brainmodeling/lib/python3.6/site-packages/brainscore/metrics/__init__.py:48: UserWarning: squeeze on raw values failed: KeyError('aggregation',)\n",
      "  warnings.warn(f\"{operation} on raw values failed: {repr(e)}\")\n",
      "/om/user/gretatu/.conda/envs/brainmodeling/lib/python3.6/site-packages/brainscore/metrics/__init__.py:48: UserWarning: isel on raw values failed: ValueError(\"dimensions ['aggregation'] do not exist\",)\n",
      "  warnings.warn(f\"{operation} on raw values failed: {repr(e)}\")\n",
      "/om/user/gretatu/.conda/envs/brainmodeling/lib/python3.6/site-packages/brainscore/metrics/__init__.py:48: UserWarning: squeeze on raw values failed: KeyError('aggregation',)\n",
      "  warnings.warn(f\"{operation} on raw values failed: {repr(e)}\")\n"
     ]
    },
    {
     "name": "stdout",
     "output_type": "stream",
     "text": [
      "/braintree/home/msch/.result_caching/neural_nlp.score/benchmark=Fedorenko2016v3-encoding,model=xlm-mlm-enfr-1024,subsample=None.pkl\n",
      "/braintree/home/msch/.result_caching/neural_nlp.score/benchmark=Fedorenko2016v3nonlang-encoding,model=xlm-mlm-enfr-1024,subsample=None.pkl\n",
      "encoder.layer_norm2.5\n",
      "/braintree/home/msch/.result_caching/neural_nlp.score/benchmark=Fedorenko2016v3-encoding,model=xlnet-base-cased,subsample=None.pkl\n",
      "/braintree/home/msch/.result_caching/neural_nlp.score/benchmark=Fedorenko2016v3nonlang-encoding,model=xlnet-base-cased,subsample=None.pkl\n",
      "encoder.layer.5\n",
      "/braintree/home/msch/.result_caching/neural_nlp.score/benchmark=Fedorenko2016v3-encoding,model=ctrl,subsample=None.pkl\n",
      "/braintree/home/msch/.result_caching/neural_nlp.score/benchmark=Fedorenko2016v3nonlang-encoding,model=ctrl,subsample=None.pkl\n",
      "h.39\n",
      "/braintree/home/msch/.result_caching/neural_nlp.score/benchmark=Fedorenko2016v3-encoding,model=gpt2-xl,subsample=None.pkl\n",
      "/braintree/home/msch/.result_caching/neural_nlp.score/benchmark=Fedorenko2016v3nonlang-encoding,model=gpt2-xl,subsample=None.pkl\n",
      "encoder.h.17\n",
      "/braintree/home/msch/.result_caching/neural_nlp.score/benchmark=Fedorenko2016v3-encoding,model=distilbert-base-uncased,subsample=None.pkl\n",
      "/braintree/home/msch/.result_caching/neural_nlp.score/benchmark=Fedorenko2016v3nonlang-encoding,model=distilbert-base-uncased,subsample=None.pkl\n",
      "transformer.layer.4\n",
      "/braintree/home/msch/.result_caching/neural_nlp.score/benchmark=Fedorenko2016v3-encoding,model=bert-base-multilingual-cased,subsample=None.pkl\n",
      "/braintree/home/msch/.result_caching/neural_nlp.score/benchmark=Fedorenko2016v3nonlang-encoding,model=bert-base-multilingual-cased,subsample=None.pkl\n",
      "encoder.layer.6.output\n",
      "/braintree/home/msch/.result_caching/neural_nlp.score/benchmark=Fedorenko2016v3-encoding,model=albert-large-v2,subsample=None.pkl\n",
      "/braintree/home/msch/.result_caching/neural_nlp.score/benchmark=Fedorenko2016v3nonlang-encoding,model=albert-large-v2,subsample=None.pkl\n",
      "embeddings\n",
      "/braintree/home/msch/.result_caching/neural_nlp.score/benchmark=Fedorenko2016v3-encoding,model=albert-xlarge-v1,subsample=None.pkl\n",
      "/braintree/home/msch/.result_caching/neural_nlp.score/benchmark=Fedorenko2016v3nonlang-encoding,model=albert-xlarge-v1,subsample=None.pkl\n"
     ]
    },
    {
     "name": "stderr",
     "output_type": "stream",
     "text": [
      "/om/user/gretatu/.conda/envs/brainmodeling/lib/python3.6/site-packages/brainscore/metrics/__init__.py:48: UserWarning: isel on raw values failed: ValueError(\"dimensions ['aggregation'] do not exist\",)\n",
      "  warnings.warn(f\"{operation} on raw values failed: {repr(e)}\")\n",
      "/om/user/gretatu/.conda/envs/brainmodeling/lib/python3.6/site-packages/brainscore/metrics/__init__.py:48: UserWarning: squeeze on raw values failed: KeyError('aggregation',)\n",
      "  warnings.warn(f\"{operation} on raw values failed: {repr(e)}\")\n",
      "/om/user/gretatu/.conda/envs/brainmodeling/lib/python3.6/site-packages/brainscore/metrics/__init__.py:48: UserWarning: isel on raw values failed: ValueError(\"dimensions ['aggregation'] do not exist\",)\n",
      "  warnings.warn(f\"{operation} on raw values failed: {repr(e)}\")\n",
      "/om/user/gretatu/.conda/envs/brainmodeling/lib/python3.6/site-packages/brainscore/metrics/__init__.py:48: UserWarning: squeeze on raw values failed: KeyError('aggregation',)\n",
      "  warnings.warn(f\"{operation} on raw values failed: {repr(e)}\")\n",
      "/om/user/gretatu/.conda/envs/brainmodeling/lib/python3.6/site-packages/brainscore/metrics/__init__.py:48: UserWarning: isel on raw values failed: ValueError(\"dimensions ['aggregation'] do not exist\",)\n",
      "  warnings.warn(f\"{operation} on raw values failed: {repr(e)}\")\n",
      "/om/user/gretatu/.conda/envs/brainmodeling/lib/python3.6/site-packages/brainscore/metrics/__init__.py:48: UserWarning: squeeze on raw values failed: KeyError('aggregation',)\n",
      "  warnings.warn(f\"{operation} on raw values failed: {repr(e)}\")\n",
      "/om/user/gretatu/.conda/envs/brainmodeling/lib/python3.6/site-packages/brainscore/metrics/__init__.py:48: UserWarning: isel on raw values failed: ValueError(\"dimensions ['aggregation'] do not exist\",)\n",
      "  warnings.warn(f\"{operation} on raw values failed: {repr(e)}\")\n",
      "/om/user/gretatu/.conda/envs/brainmodeling/lib/python3.6/site-packages/brainscore/metrics/__init__.py:48: UserWarning: squeeze on raw values failed: KeyError('aggregation',)\n",
      "  warnings.warn(f\"{operation} on raw values failed: {repr(e)}\")\n",
      "/om/user/gretatu/.conda/envs/brainmodeling/lib/python3.6/site-packages/brainscore/metrics/__init__.py:48: UserWarning: isel on raw values failed: ValueError(\"dimensions ['aggregation'] do not exist\",)\n",
      "  warnings.warn(f\"{operation} on raw values failed: {repr(e)}\")\n",
      "/om/user/gretatu/.conda/envs/brainmodeling/lib/python3.6/site-packages/brainscore/metrics/__init__.py:48: UserWarning: squeeze on raw values failed: KeyError('aggregation',)\n",
      "  warnings.warn(f\"{operation} on raw values failed: {repr(e)}\")\n",
      "/om/user/gretatu/.conda/envs/brainmodeling/lib/python3.6/site-packages/brainscore/metrics/__init__.py:48: UserWarning: isel on raw values failed: ValueError(\"dimensions ['aggregation'] do not exist\",)\n",
      "  warnings.warn(f\"{operation} on raw values failed: {repr(e)}\")\n",
      "/om/user/gretatu/.conda/envs/brainmodeling/lib/python3.6/site-packages/brainscore/metrics/__init__.py:48: UserWarning: squeeze on raw values failed: KeyError('aggregation',)\n",
      "  warnings.warn(f\"{operation} on raw values failed: {repr(e)}\")\n",
      "/om/user/gretatu/.conda/envs/brainmodeling/lib/python3.6/site-packages/brainscore/metrics/__init__.py:48: UserWarning: isel on raw values failed: ValueError(\"dimensions ['aggregation'] do not exist\",)\n",
      "  warnings.warn(f\"{operation} on raw values failed: {repr(e)}\")\n",
      "/om/user/gretatu/.conda/envs/brainmodeling/lib/python3.6/site-packages/brainscore/metrics/__init__.py:48: UserWarning: squeeze on raw values failed: KeyError('aggregation',)\n",
      "  warnings.warn(f\"{operation} on raw values failed: {repr(e)}\")\n",
      "/om/user/gretatu/.conda/envs/brainmodeling/lib/python3.6/site-packages/brainscore/metrics/__init__.py:48: UserWarning: isel on raw values failed: ValueError(\"dimensions ['aggregation'] do not exist\",)\n",
      "  warnings.warn(f\"{operation} on raw values failed: {repr(e)}\")\n",
      "/om/user/gretatu/.conda/envs/brainmodeling/lib/python3.6/site-packages/brainscore/metrics/__init__.py:48: UserWarning: squeeze on raw values failed: KeyError('aggregation',)\n",
      "  warnings.warn(f\"{operation} on raw values failed: {repr(e)}\")\n"
     ]
    },
    {
     "name": "stdout",
     "output_type": "stream",
     "text": [
      "embeddings\n",
      "/braintree/home/msch/.result_caching/neural_nlp.score/benchmark=Fedorenko2016v3-encoding,model=xlm-mlm-100-1280,subsample=None.pkl\n",
      "/braintree/home/msch/.result_caching/neural_nlp.score/benchmark=Fedorenko2016v3nonlang-encoding,model=xlm-mlm-100-1280,subsample=None.pkl\n",
      "encoder.layer_norm2.1\n",
      "/braintree/home/msch/.result_caching/neural_nlp.score/benchmark=Fedorenko2016v3-encoding,model=xlm-clm-enfr-1024,subsample=None.pkl\n",
      "/braintree/home/msch/.result_caching/neural_nlp.score/benchmark=Fedorenko2016v3nonlang-encoding,model=xlm-clm-enfr-1024,subsample=None.pkl\n",
      "encoder.layer_norm2.5\n",
      "/braintree/home/msch/.result_caching/neural_nlp.score/benchmark=Fedorenko2016v3-encoding,model=bert-base-uncased,subsample=None.pkl\n",
      "/braintree/home/msch/.result_caching/neural_nlp.score/benchmark=Fedorenko2016v3nonlang-encoding,model=bert-base-uncased,subsample=None.pkl\n",
      "encoder.layer.6.output\n",
      "/braintree/home/msch/.result_caching/neural_nlp.score/benchmark=Fedorenko2016v3-encoding,model=xlm-roberta-base,subsample=None.pkl\n",
      "/braintree/home/msch/.result_caching/neural_nlp.score/benchmark=Fedorenko2016v3nonlang-encoding,model=xlm-roberta-base,subsample=None.pkl\n",
      "encoder.layer.4\n",
      "/braintree/home/msch/.result_caching/neural_nlp.score/benchmark=Fedorenko2016v3-encoding,model=t5-large,subsample=None.pkl\n",
      "/braintree/home/msch/.result_caching/neural_nlp.score/benchmark=Fedorenko2016v3nonlang-encoding,model=t5-large,subsample=None.pkl\n",
      "encoder.block.21\n",
      "/braintree/home/msch/.result_caching/neural_nlp.score/benchmark=Fedorenko2016v3-encoding,model=albert-base-v1,subsample=None.pkl\n",
      "/braintree/home/msch/.result_caching/neural_nlp.score/benchmark=Fedorenko2016v3nonlang-encoding,model=albert-base-v1,subsample=None.pkl\n",
      "embeddings\n",
      "/braintree/home/msch/.result_caching/neural_nlp.score/benchmark=Fedorenko2016v3-encoding,model=xlnet-large-cased,subsample=None.pkl\n",
      "/braintree/home/msch/.result_caching/neural_nlp.score/benchmark=Fedorenko2016v3nonlang-encoding,model=xlnet-large-cased,subsample=None.pkl\n",
      "encoder.layer.23\n",
      "/braintree/home/msch/.result_caching/neural_nlp.score/benchmark=Fedorenko2016v3-encoding,model=t5-base,subsample=None.pkl\n",
      "/braintree/home/msch/.result_caching/neural_nlp.score/benchmark=Fedorenko2016v3nonlang-encoding,model=t5-base,subsample=None.pkl\n"
     ]
    },
    {
     "name": "stderr",
     "output_type": "stream",
     "text": [
      "/om/user/gretatu/.conda/envs/brainmodeling/lib/python3.6/site-packages/brainscore/metrics/__init__.py:48: UserWarning: isel on raw values failed: ValueError(\"dimensions ['aggregation'] do not exist\",)\n",
      "  warnings.warn(f\"{operation} on raw values failed: {repr(e)}\")\n",
      "/om/user/gretatu/.conda/envs/brainmodeling/lib/python3.6/site-packages/brainscore/metrics/__init__.py:48: UserWarning: squeeze on raw values failed: KeyError('aggregation',)\n",
      "  warnings.warn(f\"{operation} on raw values failed: {repr(e)}\")\n",
      "/om/user/gretatu/.conda/envs/brainmodeling/lib/python3.6/site-packages/brainscore/metrics/__init__.py:48: UserWarning: isel on raw values failed: ValueError(\"dimensions ['aggregation'] do not exist\",)\n",
      "  warnings.warn(f\"{operation} on raw values failed: {repr(e)}\")\n",
      "/om/user/gretatu/.conda/envs/brainmodeling/lib/python3.6/site-packages/brainscore/metrics/__init__.py:48: UserWarning: squeeze on raw values failed: KeyError('aggregation',)\n",
      "  warnings.warn(f\"{operation} on raw values failed: {repr(e)}\")\n",
      "/om/user/gretatu/.conda/envs/brainmodeling/lib/python3.6/site-packages/brainscore/metrics/__init__.py:48: UserWarning: isel on raw values failed: ValueError(\"dimensions ['aggregation'] do not exist\",)\n",
      "  warnings.warn(f\"{operation} on raw values failed: {repr(e)}\")\n",
      "/om/user/gretatu/.conda/envs/brainmodeling/lib/python3.6/site-packages/brainscore/metrics/__init__.py:48: UserWarning: squeeze on raw values failed: KeyError('aggregation',)\n",
      "  warnings.warn(f\"{operation} on raw values failed: {repr(e)}\")\n",
      "/om/user/gretatu/.conda/envs/brainmodeling/lib/python3.6/site-packages/brainscore/metrics/__init__.py:48: UserWarning: isel on raw values failed: ValueError(\"dimensions ['aggregation'] do not exist\",)\n",
      "  warnings.warn(f\"{operation} on raw values failed: {repr(e)}\")\n",
      "/om/user/gretatu/.conda/envs/brainmodeling/lib/python3.6/site-packages/brainscore/metrics/__init__.py:48: UserWarning: squeeze on raw values failed: KeyError('aggregation',)\n",
      "  warnings.warn(f\"{operation} on raw values failed: {repr(e)}\")\n",
      "/om/user/gretatu/.conda/envs/brainmodeling/lib/python3.6/site-packages/brainscore/metrics/__init__.py:48: UserWarning: isel on raw values failed: ValueError(\"dimensions ['aggregation'] do not exist\",)\n",
      "  warnings.warn(f\"{operation} on raw values failed: {repr(e)}\")\n",
      "/om/user/gretatu/.conda/envs/brainmodeling/lib/python3.6/site-packages/brainscore/metrics/__init__.py:48: UserWarning: squeeze on raw values failed: KeyError('aggregation',)\n",
      "  warnings.warn(f\"{operation} on raw values failed: {repr(e)}\")\n",
      "/om/user/gretatu/.conda/envs/brainmodeling/lib/python3.6/site-packages/brainscore/metrics/__init__.py:48: UserWarning: isel on raw values failed: ValueError(\"dimensions ['aggregation'] do not exist\",)\n",
      "  warnings.warn(f\"{operation} on raw values failed: {repr(e)}\")\n",
      "/om/user/gretatu/.conda/envs/brainmodeling/lib/python3.6/site-packages/brainscore/metrics/__init__.py:48: UserWarning: squeeze on raw values failed: KeyError('aggregation',)\n",
      "  warnings.warn(f\"{operation} on raw values failed: {repr(e)}\")\n",
      "/om/user/gretatu/.conda/envs/brainmodeling/lib/python3.6/site-packages/brainscore/metrics/__init__.py:48: UserWarning: isel on raw values failed: ValueError(\"dimensions ['aggregation'] do not exist\",)\n",
      "  warnings.warn(f\"{operation} on raw values failed: {repr(e)}\")\n",
      "/om/user/gretatu/.conda/envs/brainmodeling/lib/python3.6/site-packages/brainscore/metrics/__init__.py:48: UserWarning: squeeze on raw values failed: KeyError('aggregation',)\n",
      "  warnings.warn(f\"{operation} on raw values failed: {repr(e)}\")\n",
      "/om/user/gretatu/.conda/envs/brainmodeling/lib/python3.6/site-packages/brainscore/metrics/__init__.py:48: UserWarning: isel on raw values failed: ValueError(\"dimensions ['aggregation'] do not exist\",)\n",
      "  warnings.warn(f\"{operation} on raw values failed: {repr(e)}\")\n",
      "/om/user/gretatu/.conda/envs/brainmodeling/lib/python3.6/site-packages/brainscore/metrics/__init__.py:48: UserWarning: squeeze on raw values failed: KeyError('aggregation',)\n",
      "  warnings.warn(f\"{operation} on raw values failed: {repr(e)}\")\n"
     ]
    },
    {
     "name": "stdout",
     "output_type": "stream",
     "text": [
      "encoder.block.9\n",
      "/braintree/home/msch/.result_caching/neural_nlp.score/benchmark=Fedorenko2016v3-encoding,model=albert-xlarge-v2,subsample=None.pkl\n",
      "/braintree/home/msch/.result_caching/neural_nlp.score/benchmark=Fedorenko2016v3nonlang-encoding,model=albert-xlarge-v2,subsample=None.pkl\n",
      "embeddings\n",
      "/braintree/home/msch/.result_caching/neural_nlp.score/benchmark=Fedorenko2016v3-encoding,model=albert-xxlarge-v2,subsample=None.pkl\n",
      "/braintree/home/msch/.result_caching/neural_nlp.score/benchmark=Fedorenko2016v3nonlang-encoding,model=albert-xxlarge-v2,subsample=None.pkl\n",
      "embeddings\n",
      "/braintree/home/msch/.result_caching/neural_nlp.score/benchmark=Fedorenko2016v3-encoding,model=openaigpt,subsample=None.pkl\n",
      "/braintree/home/msch/.result_caching/neural_nlp.score/benchmark=Fedorenko2016v3nonlang-encoding,model=openaigpt,subsample=None.pkl\n",
      "encoder.h.9.ln_2\n",
      "/braintree/home/msch/.result_caching/neural_nlp.score/benchmark=Fedorenko2016v3-encoding,model=xlm-mlm-en-2048,subsample=None.pkl\n",
      "/braintree/home/msch/.result_caching/neural_nlp.score/benchmark=Fedorenko2016v3nonlang-encoding,model=xlm-mlm-en-2048,subsample=None.pkl\n",
      "encoder.layer_norm2.2\n",
      "/braintree/home/msch/.result_caching/neural_nlp.score/benchmark=Fedorenko2016v3-encoding,model=bert-large-uncased,subsample=None.pkl\n",
      "/braintree/home/msch/.result_caching/neural_nlp.score/benchmark=Fedorenko2016v3nonlang-encoding,model=bert-large-uncased,subsample=None.pkl\n",
      "encoder.layer.12.output\n",
      "/braintree/home/msch/.result_caching/neural_nlp.score/benchmark=Fedorenko2016v3-encoding,model=transfo-xl-wt103,subsample=None.pkl\n",
      "/braintree/home/msch/.result_caching/neural_nlp.score/benchmark=Fedorenko2016v3nonlang-encoding,model=transfo-xl-wt103,subsample=None.pkl\n",
      "encoder.layers.8\n",
      "/braintree/home/msch/.result_caching/neural_nlp.score/benchmark=Fedorenko2016v3-encoding,model=t5-small,subsample=None.pkl\n",
      "/braintree/home/msch/.result_caching/neural_nlp.score/benchmark=Fedorenko2016v3nonlang-encoding,model=t5-small,subsample=None.pkl\n",
      "encoder.block.0\n",
      "/braintree/home/msch/.result_caching/neural_nlp.score/benchmark=Fedorenko2016v3-encoding,model=transformer,subsample=None.pkl\n",
      "/braintree/home/msch/.result_caching/neural_nlp.score/benchmark=Fedorenko2016v3nonlang-encoding,model=transformer,subsample=None.pkl\n",
      "encoder.transformer.5.feed_forward.layer_norm"
     ]
    },
    {
     "name": "stderr",
     "output_type": "stream",
     "text": [
      "/om/user/gretatu/.conda/envs/brainmodeling/lib/python3.6/site-packages/brainscore/metrics/__init__.py:48: UserWarning: isel on raw values failed: ValueError(\"dimensions ['aggregation'] do not exist\",)\n",
      "  warnings.warn(f\"{operation} on raw values failed: {repr(e)}\")\n",
      "/om/user/gretatu/.conda/envs/brainmodeling/lib/python3.6/site-packages/brainscore/metrics/__init__.py:48: UserWarning: squeeze on raw values failed: KeyError('aggregation',)\n",
      "  warnings.warn(f\"{operation} on raw values failed: {repr(e)}\")\n",
      "/om/user/gretatu/.conda/envs/brainmodeling/lib/python3.6/site-packages/brainscore/metrics/__init__.py:48: UserWarning: isel on raw values failed: ValueError(\"dimensions ['aggregation'] do not exist\",)\n",
      "  warnings.warn(f\"{operation} on raw values failed: {repr(e)}\")\n",
      "/om/user/gretatu/.conda/envs/brainmodeling/lib/python3.6/site-packages/brainscore/metrics/__init__.py:48: UserWarning: squeeze on raw values failed: KeyError('aggregation',)\n",
      "  warnings.warn(f\"{operation} on raw values failed: {repr(e)}\")\n",
      "/om/user/gretatu/.conda/envs/brainmodeling/lib/python3.6/site-packages/brainscore/metrics/__init__.py:48: UserWarning: isel on raw values failed: ValueError(\"dimensions ['aggregation'] do not exist\",)\n",
      "  warnings.warn(f\"{operation} on raw values failed: {repr(e)}\")\n",
      "/om/user/gretatu/.conda/envs/brainmodeling/lib/python3.6/site-packages/brainscore/metrics/__init__.py:48: UserWarning: squeeze on raw values failed: KeyError('aggregation',)\n",
      "  warnings.warn(f\"{operation} on raw values failed: {repr(e)}\")\n",
      "/om/user/gretatu/.conda/envs/brainmodeling/lib/python3.6/site-packages/brainscore/metrics/__init__.py:48: UserWarning: isel on raw values failed: ValueError(\"dimensions ['aggregation'] do not exist\",)\n",
      "  warnings.warn(f\"{operation} on raw values failed: {repr(e)}\")\n",
      "/om/user/gretatu/.conda/envs/brainmodeling/lib/python3.6/site-packages/brainscore/metrics/__init__.py:48: UserWarning: squeeze on raw values failed: KeyError('aggregation',)\n",
      "  warnings.warn(f\"{operation} on raw values failed: {repr(e)}\")\n",
      "/om/user/gretatu/.conda/envs/brainmodeling/lib/python3.6/site-packages/brainscore/metrics/__init__.py:48: UserWarning: isel on raw values failed: ValueError(\"dimensions ['aggregation'] do not exist\",)\n",
      "  warnings.warn(f\"{operation} on raw values failed: {repr(e)}\")\n",
      "/om/user/gretatu/.conda/envs/brainmodeling/lib/python3.6/site-packages/brainscore/metrics/__init__.py:48: UserWarning: squeeze on raw values failed: KeyError('aggregation',)\n",
      "  warnings.warn(f\"{operation} on raw values failed: {repr(e)}\")\n",
      "/om/user/gretatu/.conda/envs/brainmodeling/lib/python3.6/site-packages/brainscore/metrics/__init__.py:48: UserWarning: isel on raw values failed: ValueError(\"dimensions ['aggregation'] do not exist\",)\n",
      "  warnings.warn(f\"{operation} on raw values failed: {repr(e)}\")\n",
      "/om/user/gretatu/.conda/envs/brainmodeling/lib/python3.6/site-packages/brainscore/metrics/__init__.py:48: UserWarning: squeeze on raw values failed: KeyError('aggregation',)\n",
      "  warnings.warn(f\"{operation} on raw values failed: {repr(e)}\")\n",
      "/om/user/gretatu/.conda/envs/brainmodeling/lib/python3.6/site-packages/brainscore/metrics/__init__.py:48: UserWarning: isel on raw values failed: ValueError(\"dimensions ['aggregation'] do not exist\",)\n",
      "  warnings.warn(f\"{operation} on raw values failed: {repr(e)}\")\n",
      "/om/user/gretatu/.conda/envs/brainmodeling/lib/python3.6/site-packages/brainscore/metrics/__init__.py:48: UserWarning: squeeze on raw values failed: KeyError('aggregation',)\n",
      "  warnings.warn(f\"{operation} on raw values failed: {repr(e)}\")\n",
      "/om/user/gretatu/.conda/envs/brainmodeling/lib/python3.6/site-packages/brainscore/metrics/__init__.py:48: UserWarning: isel on raw values failed: ValueError(\"dimensions ['aggregation'] do not exist\",)\n",
      "  warnings.warn(f\"{operation} on raw values failed: {repr(e)}\")\n",
      "/om/user/gretatu/.conda/envs/brainmodeling/lib/python3.6/site-packages/brainscore/metrics/__init__.py:48: UserWarning: squeeze on raw values failed: KeyError('aggregation',)\n",
      "  warnings.warn(f\"{operation} on raw values failed: {repr(e)}\")\n"
     ]
    },
    {
     "name": "stdout",
     "output_type": "stream",
     "text": [
      "\n",
      "/braintree/home/msch/.result_caching/neural_nlp.score/benchmark=Fedorenko2016v3-encoding,model=ETM,subsample=None.pkl\n",
      "/braintree/home/msch/.result_caching/neural_nlp.score/benchmark=Fedorenko2016v3nonlang-encoding,model=ETM,subsample=None.pkl\n",
      "projection\n",
      "/braintree/home/msch/.result_caching/neural_nlp.score/benchmark=Fedorenko2016v3-encoding,model=bert-large-uncased-whole-word-masking,subsample=None.pkl\n",
      "/braintree/home/msch/.result_caching/neural_nlp.score/benchmark=Fedorenko2016v3nonlang-encoding,model=bert-large-uncased-whole-word-masking,subsample=None.pkl\n",
      "encoder.layer.9.output\n",
      "/braintree/home/msch/.result_caching/neural_nlp.score/benchmark=Fedorenko2016v3-encoding,model=skip-thoughts,subsample=None.pkl\n",
      "/braintree/home/msch/.result_caching/neural_nlp.score/benchmark=Fedorenko2016v3nonlang-encoding,model=skip-thoughts,subsample=None.pkl\n",
      "encoder\n",
      "/braintree/home/msch/.result_caching/neural_nlp.score/benchmark=Fedorenko2016v3-encoding,model=xlm-roberta-large,subsample=None.pkl\n",
      "/braintree/home/msch/.result_caching/neural_nlp.score/benchmark=Fedorenko2016v3nonlang-encoding,model=xlm-roberta-large,subsample=None.pkl\n",
      "encoder.layer.14\n",
      "/braintree/home/msch/.result_caching/neural_nlp.score/benchmark=Fedorenko2016v3-encoding,model=roberta-base,subsample=None.pkl\n",
      "/braintree/home/msch/.result_caching/neural_nlp.score/benchmark=Fedorenko2016v3nonlang-encoding,model=roberta-base,subsample=None.pkl\n",
      "encoder.layer.11\n",
      "/braintree/home/msch/.result_caching/neural_nlp.score/benchmark=Fedorenko2016v3-encoding,model=lm_1b,subsample=None.pkl\n",
      "/braintree/home/msch/.result_caching/neural_nlp.score/benchmark=Fedorenko2016v3nonlang-encoding,model=lm_1b,subsample=None.pkl\n",
      "lstm/lstm_1/control_dependency\n"
     ]
    },
    {
     "name": "stderr",
     "output_type": "stream",
     "text": [
      "/om/user/gretatu/.conda/envs/brainmodeling/lib/python3.6/site-packages/brainscore/metrics/__init__.py:48: UserWarning: isel on raw values failed: ValueError(\"dimensions ['aggregation'] do not exist\",)\n",
      "  warnings.warn(f\"{operation} on raw values failed: {repr(e)}\")\n",
      "/om/user/gretatu/.conda/envs/brainmodeling/lib/python3.6/site-packages/brainscore/metrics/__init__.py:48: UserWarning: squeeze on raw values failed: KeyError('aggregation',)\n",
      "  warnings.warn(f\"{operation} on raw values failed: {repr(e)}\")\n",
      "/om/user/gretatu/.conda/envs/brainmodeling/lib/python3.6/site-packages/brainscore/metrics/__init__.py:48: UserWarning: isel on raw values failed: ValueError(\"dimensions ['aggregation'] do not exist\",)\n",
      "  warnings.warn(f\"{operation} on raw values failed: {repr(e)}\")\n",
      "/om/user/gretatu/.conda/envs/brainmodeling/lib/python3.6/site-packages/brainscore/metrics/__init__.py:48: UserWarning: squeeze on raw values failed: KeyError('aggregation',)\n",
      "  warnings.warn(f\"{operation} on raw values failed: {repr(e)}\")\n",
      "/om/user/gretatu/.conda/envs/brainmodeling/lib/python3.6/site-packages/brainscore/metrics/__init__.py:48: UserWarning: isel on raw values failed: ValueError(\"dimensions ['aggregation'] do not exist\",)\n",
      "  warnings.warn(f\"{operation} on raw values failed: {repr(e)}\")\n",
      "/om/user/gretatu/.conda/envs/brainmodeling/lib/python3.6/site-packages/brainscore/metrics/__init__.py:48: UserWarning: squeeze on raw values failed: KeyError('aggregation',)\n",
      "  warnings.warn(f\"{operation} on raw values failed: {repr(e)}\")\n",
      "/om/user/gretatu/.conda/envs/brainmodeling/lib/python3.6/site-packages/brainscore/metrics/__init__.py:48: UserWarning: isel on raw values failed: ValueError(\"dimensions ['aggregation'] do not exist\",)\n",
      "  warnings.warn(f\"{operation} on raw values failed: {repr(e)}\")\n",
      "/om/user/gretatu/.conda/envs/brainmodeling/lib/python3.6/site-packages/brainscore/metrics/__init__.py:48: UserWarning: squeeze on raw values failed: KeyError('aggregation',)\n",
      "  warnings.warn(f\"{operation} on raw values failed: {repr(e)}\")\n",
      "/om/user/gretatu/.conda/envs/brainmodeling/lib/python3.6/site-packages/brainscore/metrics/__init__.py:48: UserWarning: isel on raw values failed: ValueError(\"dimensions ['aggregation'] do not exist\",)\n",
      "  warnings.warn(f\"{operation} on raw values failed: {repr(e)}\")\n",
      "/om/user/gretatu/.conda/envs/brainmodeling/lib/python3.6/site-packages/brainscore/metrics/__init__.py:48: UserWarning: squeeze on raw values failed: KeyError('aggregation',)\n",
      "  warnings.warn(f\"{operation} on raw values failed: {repr(e)}\")\n"
     ]
    }
   ],
   "source": [
    "comparison='Non-Language'\n",
    "timestamp = '{:%Y-%m-%d}'.format(datetime.datetime.now())\n",
    "workbook = xlsxwriter.Workbook('Fedorenko2016-Language-'+comparison+'-specificity-non-ceiled-'+timestamp+'.xlsx')\n",
    "\n",
    "col=0\n",
    "\n",
    "worksheet = workbook.add_worksheet(\"Language vs \"+comparison) \n",
    "worksheet.write(0, col, 'Model_name')\n",
    "worksheet.write(0, 1, 'Best_layer')\n",
    "worksheet.write(0, 2, 'Comparison_1')\n",
    "worksheet.write(0, 3, 'Comparison_2')\n",
    "worksheet.write(0, 4, 'Predictivity_Comparison1')\n",
    "worksheet.write(0, 5, 'Predictivity_Comparison2')\n",
    "worksheet.write(0, 6, 'Median_Difference')\n",
    "worksheet.write(0, 7, 'Median_Mult_Drop')    \n",
    "worksheet.write(0, 8, 'Median_Perc_Drop')\n",
    "\n",
    "for idx, model in enumerate(models_l_pkl):\n",
    "\n",
    "    fname = models_l_pkl[idx]\n",
    "    fname1 = fname.split('=')\n",
    "    fname2 = fname1[-2].split(',')\n",
    "\n",
    "    print(fname)\n",
    "    fname_nl = '/braintree/home/msch/.result_caching/neural_nlp.score/benchmark=Fedorenko2016v3nonlang-encoding,model='+fname2[0]+',subsample=None.pkl'\n",
    "    print(fname_nl)\n",
    "\n",
    "    with open(fname, 'rb') as f:  \n",
    "        result = pickle.load(f)\n",
    "\n",
    "    score_l = result['data']\n",
    "\n",
    "    with open(fname_nl, 'rb') as f:  \n",
    "        result_nl = pickle.load(f)\n",
    "\n",
    "    score_nl = result_nl['data']\n",
    "    \n",
    "    diff, mult, perc, ceiled_lang, ceiled_comp, best_layer = computeDropFedorenko(score_l,score_nl,ceil=False)\n",
    " \n",
    "    worksheet.write(idx+1, col, fname2[0]) \n",
    "    worksheet.write(idx+1, col + 1, str(best_layer)) \n",
    "    worksheet.write(idx+1, col + 2, 'Language') \n",
    "    worksheet.write(idx+1, col + 3, comparison) \n",
    "    worksheet.write(idx+1, col + 4, ceiled_lang) \n",
    "    worksheet.write(idx+1, col + 5, ceiled_comp) \n",
    "    worksheet.write(idx+1, col + 6, diff)\n",
    "    worksheet.write(idx+1, col + 7, mult) \n",
    "    worksheet.write(idx+1, col + 8, perc) \n",
    "\n",
    "workbook.close()"
   ]
  },
  {
   "cell_type": "code",
   "execution_count": 125,
   "metadata": {},
   "outputs": [],
   "source": [
    "ceil=False"
   ]
  },
  {
   "cell_type": "code",
   "execution_count": 136,
   "metadata": {},
   "outputs": [],
   "source": [
    "def computeDropFedorenko(score_l,score_nl,ceil=True):\n",
    "    b=bestLangLayer(score_l)\n",
    "    if ceil:\n",
    "        o_l=freezeBestLangLayer(score_l,b)\n",
    "        o_comp=freezeBestLangLayer(score_nl,b) # freeze same layer\n",
    "        center_lang=getCenter2(o_l).values\n",
    "        center_comp=getCenter2(o_comp).values\n",
    "    if not ceil:\n",
    "        center_lang=freezeBestLangLayer(score_l.raw.raw,b).median()\n",
    "        center_comp=freezeBestLangLayer(score_nl.raw.raw,b).median()\n",
    "\n",
    "    diff = center_lang - center_comp\n",
    "    mult = center_lang / center_comp\n",
    "    perc = (diff / center_lang)*100\n",
    "\n",
    "    return diff, mult, perc, center_lang, center_comp, b "
   ]
  },
  {
   "cell_type": "code",
   "execution_count": 135,
   "metadata": {},
   "outputs": [
    {
     "data": {
      "text/plain": [
       "<xarray.Score ()>\n",
       "array(0.062184)\n",
       "Coordinates:\n",
       "    layer    <U21 'encoder.layer_norm2.9'"
      ]
     },
     "execution_count": 135,
     "metadata": {},
     "output_type": "execute_result"
    }
   ],
   "source": [
    "center_comp"
   ]
  },
  {
   "cell_type": "code",
   "execution_count": null,
   "metadata": {},
   "outputs": [],
   "source": []
  },
  {
   "cell_type": "code",
   "execution_count": 118,
   "metadata": {},
   "outputs": [
    {
     "data": {
      "text/plain": [
       "['lm_1b', 'subsample']"
      ]
     },
     "execution_count": 118,
     "metadata": {},
     "output_type": "execute_result"
    }
   ],
   "source": [
    "fname2"
   ]
  },
  {
   "cell_type": "code",
   "execution_count": null,
   "metadata": {},
   "outputs": [],
   "source": []
  },
  {
   "cell_type": "code",
   "execution_count": 131,
   "metadata": {},
   "outputs": [
    {
     "data": {
      "text/plain": [
       "<xarray.Score (layer: 13, neuroid: 105)>\n",
       "array([[-0.016233,  0.031775, -0.008377, ..., -0.015614,  0.026776, -0.031975],\n",
       "       [-0.034956, -0.001076, -0.010744, ...,  0.015962, -0.020611, -0.036501],\n",
       "       [-0.029838,  0.007264, -0.008459, ..., -0.038711,  0.037876,  0.10451 ],\n",
       "       ...,\n",
       "       [ 0.106294, -0.000282,  0.109909, ...,  0.077617,  0.014321,  0.047541],\n",
       "       [ 0.024337, -0.039717,  0.091405, ...,  0.001596, -0.050053,  0.022092],\n",
       "       [ 0.049938,  0.070291,  0.116109, ...,  0.020643, -0.118665, -0.035648]])\n",
       "Coordinates:\n",
       "  * layer        (layer) object 'dropout' ... 'encoder.layer_norm2.11'\n",
       "  * neuroid      (neuroid) MultiIndex\n",
       "  - electrode    (neuroid) int64 0 1 2 3 4 5 6 7 8 ... 22 23 24 25 26 27 28 29\n",
       "  - neuroid_id   (neuroid) int64 0 1 2 3 4 5 6 7 8 ... 22 23 24 25 26 27 28 29\n",
       "  - subject_UID  (neuroid) int64 1 1 1 1 1 1 1 1 1 1 1 ... 1 1 1 1 1 1 2 2 2 2 2\n",
       "Attributes:\n",
       "    raw:      <xarray.Score (layer: 13, split: 5, neuroid: 105)>\\narray([[[ 3..."
      ]
     },
     "execution_count": 131,
     "metadata": {},
     "output_type": "execute_result"
    }
   ],
   "source": [
    "score_nl.raw.raw"
   ]
  },
  {
   "cell_type": "code",
   "execution_count": 120,
   "metadata": {},
   "outputs": [
    {
     "data": {
      "text/plain": [
       "<xarray.Score (layer: 2, aggregation: 2)>\n",
       "array([[-0.060489,  0.047108],\n",
       "       [ 0.003018,  0.023531]])\n",
       "Coordinates:\n",
       "  * layer        (layer) object 'lstm/lstm_0/control_dependency' 'lstm/lstm_1/control_dependency'\n",
       "  * aggregation  (aggregation) <U6 'center' 'error'\n",
       "Attributes:\n",
       "    raw:          <xarray.Score (layer: 2, neuroid: 105)>\\narray([[-7.978483e...\n",
       "    description:  per-neuroid ceiling-normalized score\n",
       "    ceiling:      <xarray.Score (aggregation: 3)>\\narray([0.116164, 0.05213 ,...\n",
       "    model:        lm_1b\n",
       "    benchmark:    Fedorenko2016v3nonlang-encoding"
      ]
     },
     "execution_count": 120,
     "metadata": {},
     "output_type": "execute_result"
    }
   ],
   "source": [
    "score_nl"
   ]
  },
  {
   "cell_type": "code",
   "execution_count": 102,
   "metadata": {},
   "outputs": [],
   "source": []
  },
  {
   "cell_type": "markdown",
   "metadata": {},
   "source": [
    "# Sanity checking"
   ]
  },
  {
   "cell_type": "code",
   "execution_count": 25,
   "metadata": {},
   "outputs": [
    {
     "data": {
      "text/plain": [
       "(13, 97)"
      ]
     },
     "execution_count": 25,
     "metadata": {},
     "output_type": "execute_result"
    }
   ],
   "source": [
    "np.shape(score.raw.values)"
   ]
  },
  {
   "cell_type": "code",
   "execution_count": 40,
   "metadata": {},
   "outputs": [
    {
     "data": {
      "text/plain": [
       "<xarray.Score (layer: 13, neuroid: 97)>\n",
       "array([[ 0.068024, -0.335592, -0.11474 , ..., -0.088335, -0.397793,  0.138809],\n",
       "       [ 0.028067, -0.046891, -0.233998, ..., -0.085894, -0.018869, -0.061208],\n",
       "       [ 0.184944, -0.16922 ,  0.337123, ...,  0.01556 ,  0.275162, -0.162363],\n",
       "       ...,\n",
       "       [ 0.45498 ,  0.083965,  0.369752, ...,  0.597711,  0.648532,  0.352527],\n",
       "       [ 0.347119,  0.378986,  0.381496, ...,  0.285543,  0.091092,  0.433191],\n",
       "       [ 0.330438,  0.107857,  0.229053, ...,  0.690976,  0.834708, -0.188901]])\n",
       "Coordinates:\n",
       "  * layer        (layer) object 'dropout' ... 'encoder.layer_norm2.11'\n",
       "  * neuroid      (neuroid) MultiIndex\n",
       "  - electrode    (neuroid) int64 0 1 2 3 4 5 6 7 8 ... 22 23 24 25 26 27 28 29\n",
       "  - neuroid_id   (neuroid) int64 0 1 2 3 4 5 6 7 8 ... 22 23 24 25 26 27 28 29\n",
       "  - subject_UID  (neuroid) int64 1 1 1 1 1 1 1 1 1 1 1 ... 1 1 1 1 1 1 1 1 1 1 1\n",
       "Attributes:\n",
       "    raw:      <xarray.Score (layer: 13, neuroid: 97)>\\narray([[ 0.018842, -0....\n",
       "    ceiling:  <xarray.Score (aggregation: 3, neuroid: 97)>\\narray([[0.276986,..."
      ]
     },
     "execution_count": 40,
     "metadata": {},
     "output_type": "execute_result"
    }
   ],
   "source": [
    "score.raw"
   ]
  },
  {
   "cell_type": "code",
   "execution_count": 37,
   "metadata": {},
   "outputs": [
    {
     "data": {
      "text/plain": [
       "<xarray.Score (aggregation: 3, neuroid: 97)>\n",
       "array([[0.276986, 0.255193, 0.450026, ..., 0.22299 , 0.158368, 0.378133],\n",
       "       [0.127214, 0.148544, 0.133262, ..., 0.118591, 0.108438, 0.047434],\n",
       "       [0.42316 , 0.429424, 0.387923, ..., 0.376741, 0.293212, 0.093101]])\n",
       "Coordinates:\n",
       "  * aggregation  (aggregation) <U10 'center' 'error_low' 'error_high'\n",
       "  * neuroid      (neuroid) MultiIndex\n",
       "  - neuroid_id   (neuroid) int64 0 1 2 3 4 5 6 7 8 ... 22 23 24 25 26 27 28 29\n",
       "Attributes:\n",
       "    raw:                  <xarray.Score (sub_subject_UID: 26, num_subjects: 4...\n",
       "    bootstrapped_params:  <xarray.DataAssembly (bootstrap: 100, param: 2, neu...\n",
       "    endpoint_x:           <xarray.DataAssembly (neuroid: 97)>\\narray([ 20.,  ..."
      ]
     },
     "execution_count": 37,
     "metadata": {},
     "output_type": "execute_result"
    }
   ],
   "source": [
    "score.raw.ceiling"
   ]
  },
  {
   "cell_type": "code",
   "execution_count": 38,
   "metadata": {},
   "outputs": [
    {
     "data": {
      "text/plain": [
       "<xarray.Score (neuroid: 97)>\n",
       "array([2.769856e-01, 2.551926e-01, 4.500265e-01, 3.868833e-01, 1.365794e-01,\n",
       "       4.757289e-01, 1.716244e-01, 9.998963e-01, 4.487407e-02, 2.499845e-01,\n",
       "       1.268732e-01, 8.054062e-05, 1.508040e-01, 4.210789e-01, 1.792784e-01,\n",
       "       5.093611e-01, 1.357931e-05, 1.455410e-01, 2.785566e-01, 1.087995e-01,\n",
       "       1.237404e-01, 1.656640e-01, 2.271788e-01, 3.987137e-01, 2.209538e-01,\n",
       "       4.093732e-01, 3.131316e-01, 9.999843e-01, 3.560733e-01, 2.200534e-01,\n",
       "       3.196259e-02, 1.432794e-01, 2.981981e-01, 6.614607e-02, 1.593810e-01,\n",
       "       3.004410e-01, 2.035088e-01, 1.644961e-01, 1.523567e-01, 9.628072e-02,\n",
       "       2.569274e-01, 7.887249e-02, 8.443256e-02, 1.732331e-02, 1.677446e-06,\n",
       "       7.657057e-02, 7.880096e-02, 5.866428e-02, 1.249446e-01, 1.879526e-01,\n",
       "       1.526759e-01, 1.793452e-07, 1.936113e-01, 9.998272e-01, 2.368586e-01,\n",
       "       1.686485e-01, 1.677023e-01, 7.279055e-02, 2.154246e-01, 1.879795e-01,\n",
       "       2.404010e-01, 2.482637e-01, 5.497518e-02, 7.635533e-02, 1.837049e-01,\n",
       "       6.826332e-02, 1.267216e-01, 3.209607e-01, 2.957279e-01, 8.721872e-02,\n",
       "       3.081920e-01, 9.999793e-01, 1.942932e-02, 2.216633e-01, 2.555422e-01,\n",
       "       8.102906e-02, 1.735399e-08, 2.739911e-01, 5.483897e-02, 1.925713e-08,\n",
       "       7.177569e-02, 2.237534e-01, 9.985581e-01, 4.113639e-02, 9.985423e-01,\n",
       "       3.308510e-01, 3.955836e-02, 1.248298e-07, 9.940586e-01, 9.005335e-08,\n",
       "       1.164091e-10, 4.955911e-02, 1.428497e-01, 3.139645e-01, 2.229899e-01,\n",
       "       1.583682e-01, 3.781333e-01])\n",
       "Coordinates:\n",
       "    aggregation  <U10 'center'\n",
       "  * neuroid      (neuroid) MultiIndex\n",
       "  - neuroid_id   (neuroid) int64 0 1 2 3 4 5 6 7 8 ... 22 23 24 25 26 27 28 29\n",
       "Attributes:\n",
       "    raw:                  <xarray.Score (sub_subject_UID: 26, num_subjects: 4...\n",
       "    bootstrapped_params:  <xarray.DataAssembly (bootstrap: 100, param: 2, neu...\n",
       "    endpoint_x:           <xarray.DataAssembly (neuroid: 97)>\\narray([ 20.,  ..."
      ]
     },
     "execution_count": 38,
     "metadata": {},
     "output_type": "execute_result"
    }
   ],
   "source": [
    "score.raw.ceiling[{'aggregation': [agg == 'center' for agg in score.raw.ceiling['aggregation'].values]}].squeeze('aggregation')"
   ]
  },
  {
   "cell_type": "code",
   "execution_count": 32,
   "metadata": {},
   "outputs": [
    {
     "data": {
      "text/plain": [
       "-0.08834780590844292"
      ]
     },
     "execution_count": 32,
     "metadata": {},
     "output_type": "execute_result"
    }
   ],
   "source": [
    "np.median(score.raw.values[0,:]) #legit, ceiled val"
   ]
  },
  {
   "cell_type": "code",
   "execution_count": 30,
   "metadata": {},
   "outputs": [
    {
     "data": {
      "text/plain": [
       "<xarray.Score (layer: 13, neuroid: 97)>\n",
       "array([[ 0.018842, -0.085641, -0.051636, ..., -0.019698, -0.062998,  0.052488],\n",
       "       [ 0.007774, -0.011966, -0.105305, ..., -0.019154, -0.002988, -0.023145],\n",
       "       [ 0.051227, -0.043184,  0.151714, ...,  0.00347 ,  0.043577, -0.061395],\n",
       "       ...,\n",
       "       [ 0.126023,  0.021427,  0.166398, ...,  0.133284,  0.102707,  0.133302],\n",
       "       [ 0.096147,  0.096715,  0.171683, ...,  0.063673,  0.014426,  0.163804],\n",
       "       [ 0.091527,  0.027524,  0.10308 , ...,  0.154081,  0.132191, -0.07143 ]])\n",
       "Coordinates:\n",
       "  * layer        (layer) object 'dropout' ... 'encoder.layer_norm2.11'\n",
       "  * neuroid      (neuroid) MultiIndex\n",
       "  - electrode    (neuroid) int64 0 1 2 3 4 5 6 7 8 ... 22 23 24 25 26 27 28 29\n",
       "  - neuroid_id   (neuroid) int64 0 1 2 3 4 5 6 7 8 ... 22 23 24 25 26 27 28 29\n",
       "  - subject_UID  (neuroid) int64 1 1 1 1 1 1 1 1 1 1 1 ... 1 1 1 1 1 1 1 1 1 1 1\n",
       "Attributes:\n",
       "    raw:      <xarray.Score (layer: 13, split: 5, neuroid: 97)>\\narray([[[ 0...."
      ]
     },
     "execution_count": 30,
     "metadata": {},
     "output_type": "execute_result"
    }
   ],
   "source": [
    "score.raw.raw"
   ]
  },
  {
   "cell_type": "code",
   "execution_count": 39,
   "metadata": {},
   "outputs": [
    {
     "data": {
      "text/plain": [
       "0.06802519697774903"
      ]
     },
     "execution_count": 39,
     "metadata": {},
     "output_type": "execute_result"
    }
   ],
   "source": [
    " 0.018842/2.769856e-01 #legit, non-ceiled / ceiling"
   ]
  },
  {
   "cell_type": "code",
   "execution_count": 42,
   "metadata": {},
   "outputs": [
    {
     "data": {
      "text/plain": [
       "<xarray.Score ()>\n",
       "array(0.491101)\n",
       "Coordinates:\n",
       "    layer    <U21 'encoder.layer_norm2.9'"
      ]
     },
     "execution_count": 42,
     "metadata": {},
     "output_type": "execute_result"
    }
   ],
   "source": [
    "freezeBestLangLayer(score.raw,b).median() #legit, ceiled"
   ]
  },
  {
   "cell_type": "code",
   "execution_count": 43,
   "metadata": {},
   "outputs": [
    {
     "data": {
      "text/plain": [
       "<xarray.Score ()>\n",
       "array(0.0799)\n",
       "Coordinates:\n",
       "    layer    <U21 'encoder.layer_norm2.9'"
      ]
     },
     "execution_count": 43,
     "metadata": {},
     "output_type": "execute_result"
    }
   ],
   "source": [
    "freezeBestLangLayer(score.raw.raw,b).median() #legit, not ceiled"
   ]
  },
  {
   "cell_type": "code",
   "execution_count": null,
   "metadata": {},
   "outputs": [],
   "source": []
  }
 ],
 "metadata": {
  "kernelspec": {
   "display_name": "Python 3",
   "language": "python",
   "name": "python3"
  },
  "language_info": {
   "codemirror_mode": {
    "name": "ipython",
    "version": 3
   },
   "file_extension": ".py",
   "mimetype": "text/x-python",
   "name": "python",
   "nbconvert_exporter": "python",
   "pygments_lexer": "ipython3",
   "version": "3.6.10"
  }
 },
 "nbformat": 4,
 "nbformat_minor": 2
}
